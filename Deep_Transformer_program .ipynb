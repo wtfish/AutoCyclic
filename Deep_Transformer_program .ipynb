{
  "cells": [
    {
      "cell_type": "markdown",
      "metadata": {
        "id": "qLAb_-riTz0i"
      },
      "source": []
    },
    {
      "cell_type": "markdown",
      "metadata": {
        "id": "2Wf2udUrhYzQ"
      },
      "source": [
        "# Deep Transformer\n"
      ]
    },
    {
      "cell_type": "markdown",
      "metadata": {
        "id": "uqbgp_VZhPjA"
      },
      "source": [
        "## Library"
      ]
    },
    {
      "cell_type": "code",
      "execution_count": 210,
      "metadata": {
        "id": "Pik-ValOhq8U"
      },
      "outputs": [],
      "source": [
        "import torch\n",
        "from torch import nn, einsum\n",
        "from torch.nn.modules.linear import Linear\n",
        "import torch.optim as optim\n",
        "import torch.nn.functional as F\n",
        "import math\n",
        "import numpy as np\n",
        "from functools import partial\n",
        "import matplotlib.pyplot as plt"
      ]
    },
    {
      "cell_type": "markdown",
      "metadata": {
        "id": "IryxH6ZFrpLo"
      },
      "source": [
        "## Model"
      ]
    },
    {
      "cell_type": "markdown",
      "metadata": {
        "id": "-OCkFTnihw9k"
      },
      "source": [
        "Full Attention"
      ]
    },
    {
      "cell_type": "code",
      "execution_count": 211,
      "metadata": {
        "id": "bzUtBtG7hwZe"
      },
      "outputs": [],
      "source": [
        "def full_attention(query, key, value, causal=False, dropout=0.0):\n",
        "    device = key.device\n",
        "    B_k, h_k, n_k, d_k = key.shape\n",
        "    B_q, h_q, n_q, d_q = query.shape\n",
        "\n",
        "    scale = einsum(\"bhqd,bhkd->bhqk\", query, key)/math.sqrt(d_k)\n",
        "\n",
        "    if causal:\n",
        "        ones = torch.ones(B_k, h_k, n_q, n_k).to(device)\n",
        "        mask = torch.tril(ones)\n",
        "        scale = scale.masked_fill(mask == 0, -1e9)\n",
        "    atn = F.softmax(scale, dim=-1)\n",
        "    if dropout is not None:\n",
        "        atn = F.dropout(atn, p=dropout)\n",
        "    out = einsum(\"bhqk,bhkd->bhqd\", atn, value)\n",
        "    return out"
      ]
    },
    {
      "cell_type": "code",
      "execution_count": 212,
      "metadata": {
        "id": "SG2zO9xrN9CA"
      },
      "outputs": [],
      "source": [
        "def to_eachhead(x, head_num, split_num=3):\n",
        "    B, n, pre_d = x.shape\n",
        "    new_d = pre_d//split_num\n",
        "    assert pre_d%split_num == 0, f\"have to be multiple of {split_num}\"\n",
        "    assert new_d%head_num == 0, \"dim must be divided by head_num\"\n",
        "\n",
        "    tpl = torch.chunk(x, split_num, dim=2)\n",
        "    out = []\n",
        "    for t in tpl:\n",
        "        out.append(t.reshape(B, n, head_num, new_d//head_num).transpose(1,2))\n",
        "    return out"
      ]
    },
    {
      "cell_type": "code",
      "execution_count": 213,
      "metadata": {
        "id": "MBKXBwhSOFnS"
      },
      "outputs": [],
      "source": [
        "def concat_head(x):\n",
        "    B, h, n, _d = x.shape\n",
        "    out = x.transpose(1,2).reshape(B, n, _d*h)\n",
        "    return out"
      ]
    },
    {
      "cell_type": "markdown",
      "metadata": {
        "id": "EtedPTrxiDyG"
      },
      "source": [
        "Positional Encoding"
      ]
    },
    {
      "cell_type": "code",
      "execution_count": 214,
      "metadata": {
        "id": "NhTmV24Zg8tI"
      },
      "outputs": [],
      "source": [
        "class PositionalEncoding(nn.Module):\n",
        "    def __init__(self, d_model: int, #dropout: float = 0.1,\n",
        "                 max_len: int = 100):\n",
        "        super().__init__()\n",
        "        # self.dropout = nn.Dropout(p=dropout)\n",
        "\n",
        "        position = torch.arange(max_len).unsqueeze(1)\n",
        "        div_term = torch.exp(torch.arange(0, d_model, 2) * (-math.log(10000.0) / d_model))\n",
        "        pe = torch.zeros(max_len, 1, d_model)\n",
        "        pe[:, 0, 0::2] = torch.sin(position * div_term)\n",
        "        pe[:, 0, 1::2] = torch.cos(position * div_term)\n",
        "        self.register_buffer('pe', pe.squeeze(1))\n",
        "\n",
        "    def forward(self, x: torch.Tensor) -> torch.Tensor:\n",
        "        x = x + self.pe[:x.size(1)]\n",
        "        # return self.dropout(x)\n",
        "        return x"
      ]
    },
    {
      "cell_type": "markdown",
      "metadata": {
        "id": "oKrmu6OBP8G9"
      },
      "source": [
        "Pre-layer"
      ]
    },
    {
      "cell_type": "code",
      "execution_count": 215,
      "metadata": {
        "id": "OiJ8GvefQAWZ"
      },
      "outputs": [],
      "source": [
        "class PreLayer(nn.Module):\n",
        "    def __init__(self, hid, d_model, drop_out=0.0, in_dim=1):\n",
        "        super().__init__()\n",
        "        # self.linear = nn.Linear(in_dim, d_model)\n",
        "        self.linear1 = nn.Linear(in_dim, hid, bias=True)\n",
        "        self.relu = nn.ReLU()\n",
        "        self.linear2 = nn.Linear(hid, d_model, bias=True)\n",
        "\n",
        "\n",
        "    def forward(self, x):\n",
        "        # out = self.linear(x)\n",
        "        out = self.linear1(x)\n",
        "        out = self.relu(out)\n",
        "        out = self.linear2(out)\n",
        "        return out"
      ]
    },
    {
      "cell_type": "markdown",
      "metadata": {
        "id": "i85xI01ZP-r-"
      },
      "source": [
        "Post-layer"
      ]
    },
    {
      "cell_type": "code",
      "execution_count": 216,
      "metadata": {
        "id": "v3JWCaq2QGV7"
      },
      "outputs": [],
      "source": [
        "class PostLayer(nn.Module):\n",
        "    def __init__(self, dim, vocab_num, hid_dim, dropout_ratio):\n",
        "        super().__init__()\n",
        "        # self.linear = nn.Linear(dim, vocab_num)\n",
        "        self.linear1 = nn.Linear(dim, hid_dim, bias=True)\n",
        "        self.relu = nn.ReLU()\n",
        "        self.linear2 = nn.Linear(hid_dim, vocab_num, bias=True)\n",
        "    def forward(self,x):\n",
        "        # out = self.linear(x)\n",
        "        out = self.linear1(x)\n",
        "        out = self.relu(out)\n",
        "        out = self.linear2(out)\n",
        "        return out"
      ]
    },
    {
      "cell_type": "markdown",
      "metadata": {
        "id": "5elRhXaaQhF3"
      },
      "source": [
        "Multi-head Attention"
      ]
    },
    {
      "cell_type": "markdown",
      "metadata": {
        "id": "TRR-8kZlhz6e"
      },
      "source": [
        "1) Multi-head Self Attention"
      ]
    },
    {
      "cell_type": "code",
      "execution_count": 217,
      "metadata": {
        "id": "IQemVp6yh2Jc"
      },
      "outputs": [],
      "source": [
        "class MultiHeadSelfAttention(nn.Module):\n",
        "    def __init__(self, dim, head_num):\n",
        "        super().__init__()\n",
        "        self.to_qvk = nn.Linear(dim, dim*3)\n",
        "        self.make_head = partial(to_eachhead, head_num=head_num, split_num=3)\n",
        "        self.mhsa = full_attention\n",
        "\n",
        "    def forward(self, x):\n",
        "        qvk = self.to_qvk(x)\n",
        "        q, v, k = self.make_head(qvk)\n",
        "        out = self.mhsa(q, k, v)\n",
        "        out = concat_head(out)\n",
        "        return out"
      ]
    },
    {
      "cell_type": "markdown",
      "metadata": {
        "id": "EGcwyuxhQyPV"
      },
      "source": [
        "2) Multi-head Causal Attention"
      ]
    },
    {
      "cell_type": "code",
      "execution_count": 218,
      "metadata": {
        "id": "96fRrPGOQ08N"
      },
      "outputs": [],
      "source": [
        "class MultiHeadCausalAttention(nn.Module):\n",
        "    def __init__(self, dim, head_num):\n",
        "        super().__init__()\n",
        "        self.to_qvk = nn.Linear(dim, dim*3)\n",
        "        self.make_head = partial(to_eachhead, head_num=head_num, split_num=3)\n",
        "        self.mhca = partial(full_attention, causal=True)\n",
        "\n",
        "    def forward(self, x):\n",
        "        qvk = self.to_qvk(x)\n",
        "        q, v, k = self.make_head(qvk)\n",
        "        out = self.mhca(q, k, v)\n",
        "        out = concat_head(out)\n",
        "        return out"
      ]
    },
    {
      "cell_type": "markdown",
      "metadata": {
        "id": "r2tUHWZnQ3mQ"
      },
      "source": [
        "3) Multi-head Source Attention"
      ]
    },
    {
      "cell_type": "code",
      "execution_count": 219,
      "metadata": {
        "id": "mptn46JXQ4AC"
      },
      "outputs": [],
      "source": [
        "class MultiHeadSourceAttention(nn.Module):\n",
        "    def __init__(self, dim, head_num):\n",
        "        super().__init__()\n",
        "        self.to_kv = nn.Linear(dim, dim*2)\n",
        "        self.to_q = nn.Linear(dim, dim)\n",
        "        self.make_head_kv = partial(to_eachhead, head_num=head_num, split_num=2)\n",
        "        self.make_head_q = partial(to_eachhead, head_num=head_num, split_num=1)\n",
        "        self.mhsa = full_attention\n",
        "\n",
        "    def forward(self, x, memory):\n",
        "        mem = self.to_kv(memory)\n",
        "        x = self.to_q(x)\n",
        "        k, v = self.make_head_kv(mem)\n",
        "        q = self.make_head_q(x)[0]\n",
        "        out = self.mhsa(q, k, v)\n",
        "        out = concat_head(out)\n",
        "        return out"
      ]
    },
    {
      "cell_type": "markdown",
      "metadata": {
        "id": "mn_j1AYOh8qI"
      },
      "source": [
        "Feed Fordward"
      ]
    },
    {
      "cell_type": "code",
      "execution_count": 220,
      "metadata": {
        "id": "TE57qHUpiAnL"
      },
      "outputs": [],
      "source": [
        "class FeedForward(nn.Module):\n",
        "    def __init__(self, dim, hid_dim):\n",
        "        super().__init__()\n",
        "        self.linear1 = nn.Linear(dim, hid_dim, bias=True)\n",
        "        self.relu = nn.ReLU()\n",
        "        self.linear2 = nn.Linear(hid_dim, dim, bias=True)\n",
        "\n",
        "    def forward(self, x):\n",
        "        out = self.linear1(x)\n",
        "        out = self.relu(out)\n",
        "        out = self.linear2(out)\n",
        "        return out"
      ]
    },
    {
      "cell_type": "markdown",
      "metadata": {
        "id": "D0Loy-Y6ibjG"
      },
      "source": [
        "Encoder"
      ]
    },
    {
      "cell_type": "code",
      "execution_count": 221,
      "metadata": {
        "id": "Yoepwo5WiuKP"
      },
      "outputs": [],
      "source": [
        "class EncoderLayer(nn.Module):\n",
        "    def __init__(self, dim, head_num, ff_hidnum, dropout_ratio, norm_first=False):\n",
        "        super().__init__()\n",
        "        self.dor = dropout_ratio\n",
        "        self.mhsa = MultiHeadSelfAttention(dim, head_num)\n",
        "        self.ln1 = nn.LayerNorm(dim)\n",
        "        self.ff = FeedForward(dim, ff_hidnum)\n",
        "        self.ln2 = nn.LayerNorm(dim)\n",
        "        self.norm_first = norm_first\n",
        "\n",
        "    def forward(self, x):\n",
        "        res = torch.clone(x)\n",
        "\n",
        "        if self.norm_first:\n",
        "          out = self.ln1(x)\n",
        "          out = self.mhsa(out)\n",
        "          out = F.dropout(out, p=self.dor) + res\n",
        "\n",
        "          res = torch.clone(out)\n",
        "          out = self.ln2(out)\n",
        "          out = self.ff(out)\n",
        "          out = F.dropout(out, p=self.dor) + res\n",
        "        else:\n",
        "          out = self.mhsa(x)\n",
        "          out = F.dropout(out, p=self.dor) + res\n",
        "          out = self.ln1(out)\n",
        "\n",
        "          res = torch.clone(out)\n",
        "          out = self.ff(out)\n",
        "          out = F.dropout(out, p=self.dor) + res\n",
        "          out = self.ln2(out)\n",
        "\n",
        "        return out"
      ]
    },
    {
      "cell_type": "code",
      "execution_count": 222,
      "metadata": {
        "id": "Z-HJWJ_nffA7"
      },
      "outputs": [],
      "source": [
        "class Encoder(nn.Module):\n",
        "    def __init__(self, depth, dim, head_num, ff_hidnum=2048, dropout_ratio=0.2, norm_first=False):\n",
        "        super().__init__()\n",
        "        self.layers = nn.ModuleList([EncoderLayer(dim, head_num, ff_hidnum, dropout_ratio, norm_first) for i in range(depth)])\n",
        "\n",
        "    def forward(self, x):\n",
        "        for layer in self.layers:\n",
        "            x = layer(x)\n",
        "        return x"
      ]
    },
    {
      "cell_type": "markdown",
      "metadata": {
        "id": "ZXnhQ17bivln"
      },
      "source": [
        "Decoder"
      ]
    },
    {
      "cell_type": "code",
      "execution_count": 223,
      "metadata": {
        "id": "ad789UZyi0GJ"
      },
      "outputs": [],
      "source": [
        "class DecoderLayer(nn.Module):\n",
        "    def __init__(self, dim, head_num, ff_hidnum, dropout_ratio, norm_first=False):\n",
        "        super().__init__()\n",
        "        self.dor = dropout_ratio\n",
        "        self.mhca = MultiHeadCausalAttention(dim, head_num)\n",
        "        self.ln1 = nn.LayerNorm(dim)\n",
        "        self.mhsa = MultiHeadSourceAttention(dim, head_num)\n",
        "        self.ln2 = nn.LayerNorm(dim)\n",
        "        self.ff = FeedForward(dim, ff_hidnum)\n",
        "        self.ln3 = nn.LayerNorm(dim)\n",
        "        self.norm_first = norm_first\n",
        "\n",
        "    def forward(self, x, memory):\n",
        "        res = torch.clone(x)\n",
        "\n",
        "        if self.norm_first:\n",
        "          out = self.ln1(x)\n",
        "          out = self.mhca(out)\n",
        "          out = F.dropout(out, p=self.dor) + res\n",
        "\n",
        "          res = torch.clone(out)\n",
        "          out = self.ln2(out)\n",
        "          out = self.mhsa(out, memory)\n",
        "          out = F.dropout(out, p=self.dor) + res\n",
        "\n",
        "          res = torch.clone(out)\n",
        "          out = self.ln3(out)\n",
        "          out = self.ff(out)\n",
        "          out = F.dropout(out, p=self.dor) + res\n",
        "\n",
        "        else:\n",
        "          out = self.mhca(x)\n",
        "          out = F.dropout(out, p=self.dor) + res\n",
        "          out = self.ln1(out)\n",
        "\n",
        "          res = torch.clone(out)\n",
        "          out = self.mhsa(out, memory)\n",
        "          out = F.dropout(out, p=self.dor) + res\n",
        "          out = self.ln2(out)\n",
        "\n",
        "          res = torch.clone(out)\n",
        "          out = self.ff(out)\n",
        "          out = F.dropout(out, p=self.dor) + res\n",
        "          out = self.ln3(out)\n",
        "\n",
        "        return out"
      ]
    },
    {
      "cell_type": "code",
      "execution_count": 224,
      "metadata": {
        "id": "F4w_yvb_ffA8"
      },
      "outputs": [],
      "source": [
        "class Decoder(nn.Module):\n",
        "    def __init__(self, depth, dim, head_num, ff_hidnum, dropout_ratio=0.2, norm_first=False):\n",
        "        super().__init__()\n",
        "        self.layers = nn.ModuleList([DecoderLayer(dim, head_num, ff_hidnum, dropout_ratio, norm_first) for i in range(depth)])\n",
        "\n",
        "    def forward(self, x, memory):\n",
        "        for layer in self.layers:\n",
        "            x = layer(x, memory)\n",
        "        return x"
      ]
    },
    {
      "cell_type": "markdown",
      "metadata": {
        "id": "2x-lKLAljNGT"
      },
      "source": [
        "Transformer"
      ]
    },
    {
      "cell_type": "code",
      "execution_count": 225,
      "metadata": {
        "id": "EiUSMgetjOhX"
      },
      "outputs": [],
      "source": [
        "class Transformer(nn.Module):\n",
        "    def __init__(self, device, d_model, in_dim, N_enc, N_dec, h_enc, h_dec, ff_hidnum, hid_pre, hid_post, dropout_pre, dropout_post, dropout_model, norm_first=False):\n",
        "        super().__init__()\n",
        "        self.device = device\n",
        "        self.x_pre = PreLayer(hid_pre, d_model, dropout_pre, in_dim)\n",
        "        self.y_pre = PreLayer(hid_pre, d_model, dropout_pre, in_dim)\n",
        "        self.pos = PositionalEncoding(d_model)\n",
        "        self.enc = Encoder(N_enc,d_model, h_enc, ff_hidnum, dropout_model, norm_first)\n",
        "        self.dec = Decoder(N_dec,d_model, h_dec, ff_hidnum, dropout_model, norm_first)\n",
        "        self.post = PostLayer(d_model, 1, hid_post, dropout_post)\n",
        "\n",
        "    def forward(self, x, y):\n",
        "        x_emb = self.x_pre(x)\n",
        "        y_emb = self.y_pre(y)\n",
        "        x_emb_pos = self.pos(x_emb)\n",
        "        y_emb_pos = self.pos(y_emb)\n",
        "        memory = self.enc(x_emb_pos)\n",
        "        out = self.dec(y_emb_pos, memory)\n",
        "        out = self.post(out)\n",
        "        out = out.squeeze(-1)\n",
        "        return out\n",
        "\n",
        "    def generate(self, x, forcast_step, y_start,multivariate=False):\n",
        "        device = x.device\n",
        "        x = x.to(device)\n",
        "        B, N, D = x.shape\n",
        "        x = self.x_pre(x) \n",
        "        x = self.pos(x)\n",
        "        z = self.enc(x) \n",
        "        y = y_start\n",
        "        for i in range(forcast_step):\n",
        "            y_pred = self.y_pre(y)\n",
        "            y_pred = self.pos(y_pred)\n",
        "            y_pred = self.dec(y_pred, z)\n",
        "            y_pred = self.post(y_pred)\n",
        "            if multivariate:\n",
        "                y = torch.cat([y, y_pred[:,[-1],:]], dim=2)\n",
        "            else:\n",
        "                y = torch.cat([y, y_pred[:,[-1],:]], dim=1)\n",
        "        y_pred = y_pred.squeeze(-1)\n",
        "        return y_pred"
      ]
    },
    {
      "cell_type": "markdown",
      "metadata": {
        "id": "gXfmpn8JnJVk"
      },
      "source": [
        "## Dataset"
      ]
    },
    {
      "cell_type": "code",
      "execution_count": 226,
      "metadata": {
        "id": "ex8jTggGnLHl"
      },
      "outputs": [],
      "source": [
        "class Dataset(torch.utils.data.Dataset):\n",
        "    def __init__(self, data, input_step, predict_step):\n",
        "        super().__init__()\n",
        "        self.data = data\n",
        "        self.predict_step = predict_step\n",
        "        self.input_step = input_step\n",
        "        self.start_max = self.data.shape[0] - (self.predict_step + self.input_step) + 1\n",
        "        self.datalen = self.start_max\n",
        "\n",
        "    def __len__(self):\n",
        "        return self.datalen\n",
        "\n",
        "    def __getitem__(self, idx):\n",
        "        start_idx = idx % self.start_max\n",
        "        predict_idx = start_idx + self.input_step\n",
        "        end_idx = predict_idx + self.predict_step\n",
        "\n",
        "        x = self.data[start_idx:predict_idx, :]\n",
        "        y = self.data[predict_idx-1:end_idx-1, :]\n",
        "        tgt = self.data[predict_idx:end_idx, :]\n",
        "\n",
        "        x = torch.from_numpy(x)\n",
        "        y = torch.from_numpy(y)\n",
        "        tgt = torch.from_numpy(tgt)\n",
        "\n",
        "        return x, y, tgt"
      ]
    },
    {
      "cell_type": "code",
      "execution_count": 402,
      "metadata": {
        "id": "rnHFWhIq_G9B"
      },
      "outputs": [],
      "source": [
        "# data_path = 'https://data.covid19.go.id/public/api/update.json'\n",
        "# data_path = 'update_22-3-2022.json'\n",
        "import requests\n",
        "import json\n",
        "import pandas as pd\n",
        "\n",
        "def load_data(data_path, dataset_len=None, test_size=30,multivariate=False):\n",
        "    # data = requests.get(data_path).json() if from_api else pd.read_json(data_path)\n",
        "\n",
        "    # data = pd.DataFrame(data['update']['harian'])[['key','jumlah_positif']]\n",
        "    # data.key = pd.to_datetime(data.key, unit='ms')\n",
        "\n",
        "    # data=pd.read_csv(data_path)\n",
        "    # data=data[[\"V1\",\"V2\"]]\n",
        "    # data = data.set_index('V1')\n",
        "\n",
        "    # ETTm2\n",
        "    # data=pd.read_csv(data_path)\n",
        "    # data=data[[\"date\",\"OT\"]]\n",
        "    # data = data.set_index('date')\n",
        "\n",
        "    # Turbine Dataset\n",
        "    data=pd.read_csv(data_path)\n",
        "    data = data.rename(columns={data.columns[0]: 'Date'}) \n",
        "    data=data.dropna(subset=[\"ActivePower\",\"WindSpeed\"])\n",
        "    # data=data[[\"Date\",\"ActivePower\",\"WindSpeed\"]]\n",
        "    data=data[[\"Date\",\"ActivePower\"]]\n",
        "    data = data.set_index('Date')\n",
        "\n",
        "\n",
        "    data_len = data.shape[0]\n",
        "    if multivariate:\n",
        "        numpy_use = data.to_numpy()\n",
        "        original_data = data\n",
        "        from sklearn.preprocessing import MinMaxScaler\n",
        "        numpy_use_jii = data['ActivePower'].to_numpy()\n",
        "        scaler = MinMaxScaler(feature_range=(-1, 1))\n",
        "        numpy_use_jii = scaler.fit_transform(numpy_use_jii.reshape(-1,1))\n",
        "        scaler_all = MinMaxScaler(feature_range=(-1, 1)) \n",
        "        numpy_use = scaler_all.fit_transform(numpy_use)\n",
        "        \n",
        "        train_val, test_only = numpy_use[:data_len - test_size,:], numpy_use[data_len - test_size:,:]\n",
        "        train_num = data_len//10 * 8\n",
        "        train_data = train_val[:train_num].astype(\"float32\")\n",
        "        val_data = train_val[train_num:].astype(\"float32\")\n",
        "        test_data = test_only.astype(\"float32\")\n",
        "        return train_data, val_data, test_data, scaler, original_data\n",
        "    else:\n",
        "        numpy_use = data['ActivePower'].to_numpy()\n",
        "        original_data = data[\"ActivePower\"]\n",
        "        from sklearn.preprocessing import MinMaxScaler\n",
        "        scaler = MinMaxScaler(feature_range=(-1, 1)) \n",
        "        numpy_use = scaler.fit_transform(numpy_use.reshape(-1,1))\n",
        "        \n",
        "        train_val, test_only = numpy_use[:numpy_use.size - test_size], numpy_use[numpy_use.size - test_size:]\n",
        "        train_num = data_len//10 * 8\n",
        "        train_data = train_val[:train_num].astype(\"float32\")\n",
        "        val_data = train_val[train_num:].astype(\"float32\")\n",
        "        test_data = test_only.astype(\"float32\")\n",
        "        return train_data, val_data, test_data, scaler, original_data"
      ]
    },
    {
      "cell_type": "code",
      "execution_count": 403,
      "metadata": {
        "id": "31h68SUS9RXp"
      },
      "outputs": [],
      "source": [
        "def make_dataloader(train_data, val_data, test_data, input_step, predict_step, batch_size, shuffle_train=True, shuffle_val=False):\n",
        "    train_set = Dataset(train_data, input_step, predict_step)\n",
        "    val_set = Dataset(val_data, input_step, predict_step)\n",
        "    test_set = Dataset(test_data, input_step, predict_step)\n",
        "\n",
        "    train_loader = torch.utils.data.DataLoader(train_set, batch_size, shuffle=shuffle_train)\n",
        "    val_loader = torch.utils.data.DataLoader(val_set, batch_size=batch_size, shuffle=shuffle_val)\n",
        "    test_loader = torch.utils.data.DataLoader(test_set, batch_size=batch_size, shuffle=False)\n",
        "\n",
        "    return train_loader, val_loader, test_loader"
      ]
    },
    {
      "cell_type": "markdown",
      "metadata": {
        "id": "w06YpJZsjhC1"
      },
      "source": [
        "## Training"
      ]
    },
    {
      "cell_type": "markdown",
      "metadata": {
        "id": "0oUlzDFPFWJo"
      },
      "source": [
        "Training Utils"
      ]
    },
    {
      "cell_type": "code",
      "execution_count": 404,
      "metadata": {
        "id": "sp15c4v5nBPP"
      },
      "outputs": [],
      "source": [
        "def lr_func(step, d_model):\n",
        "    warmup_steps = 5000\n",
        "    step_term = min(step**0.5, step*warmup_steps**(-1.5))\n",
        "    return d_model**0.5 * step_term"
      ]
    },
    {
      "cell_type": "code",
      "execution_count": 405,
      "metadata": {
        "id": "SEU5QlGno7Fe"
      },
      "outputs": [],
      "source": [
        "import random\n",
        "\n",
        "def fix_seed(seed):\n",
        "    # random\n",
        "    random.seed(seed)\n",
        "    # Numpy\n",
        "    np.random.seed(seed)\n",
        "    # Pytorch\n",
        "    torch.manual_seed(seed)\n",
        "    torch.cuda.manual_seed_all(seed)\n",
        "    torch.backends.cudnn.deterministic = True\n",
        "    torch.backends.cudnn.benchmark = False"
      ]
    },
    {
      "cell_type": "code",
      "execution_count": 406,
      "metadata": {
        "id": "bU8xeHRaVcOY"
      },
      "outputs": [],
      "source": [
        "## Calculate MSE eval\n",
        "def check_data(device, test_loader, net, criterion):\n",
        "    net.eval()\n",
        "    loss_log = []\n",
        "    for iter, (x, y, tgt) in enumerate(test_loader):\n",
        "        x, y, tgt = x.to(device), y.to(device), tgt.to(device)\n",
        "        tgt = tgt[:,:,0]\n",
        "\n",
        "        out = net(x, y)\n",
        "\n",
        "        loss = criterion(out, tgt)\n",
        "        loss_log.append(loss.item())\n",
        "\n",
        "    return sum(loss_log)/len(loss_log)# MSE"
      ]
    },
    {
      "cell_type": "code",
      "execution_count": 358,
      "metadata": {
        "id": "QALsb7NgGa7j"
      },
      "outputs": [],
      "source": [
        "import torch\n",
        "import numpy as np\n",
        "import os"
      ]
    },
    {
      "cell_type": "code",
      "execution_count": 407,
      "metadata": {
        "id": "YfvsfI1po23t"
      },
      "outputs": [],
      "source": [
        "torch.set_printoptions(precision=5, sci_mode=False)\n",
        "np.set_printoptions(precision=5, suppress=True)\n",
        "\n",
        "device = torch.device(\"cuda\" if torch.cuda.is_available() else \"cpu\")"
      ]
    },
    {
      "cell_type": "markdown",
      "metadata": {
        "id": "AZ9GnGwskDQu"
      },
      "source": [
        "Hyper-parameter"
      ]
    },
    {
      "cell_type": "code",
      "execution_count": 408,
      "metadata": {
        "id": "BQSrVcnikGNC"
      },
      "outputs": [],
      "source": [
        "input_step = 4\n",
        "predict_step = 1\n",
        "d_model = 64\n",
        "batch_size = 1510\n",
        "max_epoch = 1\n",
        "in_dim = 1\n",
        "N_enc = 1\n",
        "N_dec = 1\n",
        "h_enc = 1\n",
        "h_dec = 1\n",
        "ff_hidnum = 100\n",
        "hid_pre = 100\n",
        "hid_post =100\n",
        "dropout_pre = 0\n",
        "dropout_post = 0\n",
        "dropout_model = 0\n",
        "save_each = 10\n",
        "multi=False\n",
        "norm_first = False # default = False (Post-LN)\n",
        "# dbg = args.debug\n",
        "model_path = 'content/model/'\n",
        "test_result_path = 'content/test_result_path/'"
      ]
    },
    {
      "cell_type": "code",
      "execution_count": 235,
      "metadata": {
        "id": "C3Hd_iTWFjH6"
      },
      "outputs": [],
      "source": [
        "# dir_list = [\"/content/model/\",\"/content/test_result_path/\"]\n",
        "\n",
        "# for dir in dir_list:\n",
        "#   if os.path.isdir(dir) != True:\n",
        "#     os.mkdir(dir)"
      ]
    },
    {
      "cell_type": "markdown",
      "metadata": {
        "id": "gBYIHpPmjYmz"
      },
      "source": [
        "Load Data"
      ]
    },
    {
      "cell_type": "code",
      "execution_count": 409,
      "metadata": {
        "id": "NvTeaHQ5BAhc"
      },
      "outputs": [],
      "source": [
        "train, val, test, scaler, original = load_data(\"Data/Turbine_Data.csv\", test_size=120,multivariate=multi)\n",
        "# train, val, test, scaler, original = load_data('update 12-05-2022.json', from_api=False,\n",
        "#                                                          dataset_len=750, test_size=60)#input_step+predict_step+60)"
      ]
    },
    {
      "cell_type": "code",
      "execution_count": 410,
      "metadata": {
        "colab": {
          "base_uri": "https://localhost:8080/"
        },
        "id": "vqJtpGULQmxD",
        "outputId": "320303bd-4713-45f3-c6c3-dc7232bf8314"
      },
      "outputs": [
        {
          "data": {
            "text/plain": [
              "((75544, 1), (18772, 1), (120, 1))"
            ]
          },
          "execution_count": 410,
          "metadata": {},
          "output_type": "execute_result"
        }
      ],
      "source": [
        "train.shape, val.shape, test.shape"
      ]
    },
    {
      "cell_type": "code",
      "execution_count": 411,
      "metadata": {
        "colab": {
          "base_uri": "https://localhost:8080/"
        },
        "id": "3x1WUTVNT_jB",
        "outputId": "37dd2198-dfd2-4312-f604-ae98e46eca91"
      },
      "outputs": [
        {
          "data": {
            "text/plain": [
              "94436"
            ]
          },
          "execution_count": 411,
          "metadata": {},
          "output_type": "execute_result"
        }
      ],
      "source": [
        "train.size + val.size + test.size"
      ]
    },
    {
      "cell_type": "code",
      "execution_count": 412,
      "metadata": {
        "id": "qUZu79mxBlnb"
      },
      "outputs": [],
      "source": [
        "train_loader, val_loader, test_loader = make_dataloader(train, val, test, input_step, predict_step, batch_size, shuffle_train=False, shuffle_val=False)"
      ]
    },
    {
      "cell_type": "markdown",
      "metadata": {},
      "source": [
        "## Manual Run"
      ]
    },
    {
      "cell_type": "markdown",
      "metadata": {},
      "source": [
        "### Cosine Cyclic Learning Rate"
      ]
    },
    {
      "cell_type": "code",
      "execution_count": 365,
      "metadata": {},
      "outputs": [],
      "source": [
        "from torch.optim.lr_scheduler import _LRScheduler\n",
        "class CosineCyclicLR(_LRScheduler):\n",
        "    def __init__(self, optimizer, base_lr, max_lr, step_size, last_epoch=-1):\n",
        "        self.base_lr = base_lr\n",
        "        self.max_lr = max_lr\n",
        "        self.step_size = step_size\n",
        "        super(CosineCyclicLR, self).__init__(optimizer, last_epoch)\n",
        "\n",
        "    def get_lr(self):\n",
        "        cycle = math.floor(1 + self.last_epoch / (2 * self.step_size))\n",
        "        x = abs(self.last_epoch / self.step_size - 2 * cycle + 1)\n",
        "        lr = self.base_lr + (self.max_lr - self.base_lr) * (1 + math.cos(math.pi * x)) / 2\n",
        "        # print(self.last_epoch,lr)\n",
        "        return [lr for _ in self.base_lrs]"
      ]
    },
    {
      "cell_type": "markdown",
      "metadata": {},
      "source": [
        "### Cosine Cyclic Learning Rate with Batch Variance"
      ]
    },
    {
      "cell_type": "code",
      "execution_count": 413,
      "metadata": {},
      "outputs": [],
      "source": [
        "import math\n",
        "from torch.optim.lr_scheduler import _LRScheduler\n",
        "import pytorch_forecasting\n",
        "\n",
        "class BatchVarCosineCyclicLR(_LRScheduler):\n",
        "    def __init__(self, optimizer, base_lr, max_lr, step_size, last_epoch=-1):\n",
        "        self.base_lr = base_lr\n",
        "        self.max_lr = max_lr\n",
        "        self.step_size = step_size\n",
        "        self.data = None\n",
        "        super(BatchVarCosineCyclicLR, self).__init__(optimizer, last_epoch) \n",
        "    def get_lr(self):\n",
        "        cycle = math.floor(1 + self.last_epoch / (2 * self.step_size))\n",
        "        x = abs(self.last_epoch / self.step_size - 2 * cycle + 1)\n",
        "        lr = [self.base_lr + (self.max_lr - self.base_lr) * (1 + math.cos(math.pi * x)) / 2 * (1 + self.get_batch_variance()) for _ in self.base_lrs]\n",
        "        return lr\n",
        "    def get_batch_variance(self):\n",
        "        # AutoCorrelation+sigmoid\n",
        "        if self.data is None:\n",
        "            return 1\n",
        "        step_var=[]\n",
        "        for items in self.data:\n",
        "            SGLayer = nn.Sigmoid()\n",
        "            output=pytorch_forecasting.autocorrelation(items)\n",
        "            output=torch.nan_to_num(output, nan=0)\n",
        "            output=SGLayer(output)\n",
        "            step_var.append(torch.var(output))\n",
        "        tensor_batch_step_var = torch.tensor(step_var)\n",
        "        mean_step=torch.mean(tensor_batch_step_var)\n",
        "        batch_variance = mean_step.numpy()\n",
        "        return batch_variance    \n",
        "    def set_batch_data(self, data):\n",
        "        self.data = data\n"
      ]
    },
    {
      "cell_type": "code",
      "execution_count": 414,
      "metadata": {},
      "outputs": [],
      "source": [
        "    \n",
        "def CorrSyncLR(base_lr, max_lr, step_size):\n",
        "        step_var=[]\n",
        "        for items in self.data:\n",
        "            SGLayer = nn.Sigmoid()\n",
        "            output=pytorch_forecasting.autocorrelation(items)\n",
        "            output=torch.nan_to_num(output, nan=0)\n",
        "            output=SGLayer(output)\n",
        "            step_var.append(torch.var(output))\n",
        "        tensor_batch_step_var = torch.tensor(step_var)\n",
        "        mean_step=torch.mean(tensor_batch_step_var)\n",
        "        batch_variance = mean_step.numpy()\n",
        "        cycle = math.floor(1 + self.last_epoch / (2 * self.step_size))\n",
        "        x = abs(self.last_epoch / self.step_size - 2 * cycle + 1)\n",
        "        lr = [self.base_lr + (self.max_lr - self.base_lr) * (1 + math.cos(math.pi * x)) / 2 * (1 + self.get_batch_variance()) for _ in self.base_lrs]"
      ]
    },
    {
      "cell_type": "code",
      "execution_count": 415,
      "metadata": {},
      "outputs": [
        {
          "name": "stdout",
          "output_type": "stream",
          "text": [
            "torch.Size([1510, 4, 1])\n"
          ]
        }
      ],
      "source": [
        "for iter, (x, y, tgt) in enumerate(train_loader):\n",
        "    print(x.shape)\n",
        "    break"
      ]
    },
    {
      "cell_type": "markdown",
      "metadata": {},
      "source": [
        "### Train"
      ]
    },
    {
      "cell_type": "code",
      "execution_count": 420,
      "metadata": {},
      "outputs": [],
      "source": [
        "net = Transformer(device, d_model, in_dim, N_enc, N_dec, h_enc, h_dec, ff_hidnum, hid_pre, hid_post, dropout_pre, dropout_post, dropout_model, norm_first)\n",
        "net = net.to(device)\n",
        "\n",
        "optimizer = optim.Adam(net.parameters(), lr=0.0002782)\n",
        "# scheduler = optim.lr_scheduler.LambdaLR(optimizer, lr_lambda=partial(lr_func, d_model = d_model))"
      ]
    },
    {
      "cell_type": "code",
      "execution_count": 424,
      "metadata": {},
      "outputs": [],
      "source": [
        "import matplotlib.pyplot as plt\n",
        "import scipy\n",
        "\n",
        "train_loss_log = []\n",
        "val_loss_log = []\n",
        "\n",
        "best_train_loss = np.inf\n",
        "best_val_loss = np.inf\n",
        "best_both_loss = (np.inf, np.inf)\n",
        "best_train_epoch = 0\n",
        "best_val_epoch = 0\n",
        "best_both_epoch = 0\n",
        "criterion = nn.MSELoss()\n",
        "\n",
        "# buatcyclic \n",
        "base_lr=0.0002782559402207126\n",
        "max_lr_multiplier=7\n",
        "cycle_size=25\n",
        "lrs=[]\n",
        "bvs=[]\n",
        "\n",
        "max_iteration = 0\n",
        "for epoch in range(max_epoch):\n",
        "  # scheduler = CosineCyclicLR(optimizer, base_lr=base_lr,max_lr=(base_lr*max_lr_multiplier), step_size=cycle_size)\n",
        "  scheduler = BatchVarCosineCyclicLR(optimizer, base_lr=base_lr, max_lr=(base_lr*max_lr_multiplier), step_size=cycle_size)\n",
        "  tgt_log_train = np.zeros((1,predict_step))\n",
        "  pred_log_train = np.zeros((1,predict_step))\n",
        "\n",
        "  for iter, (x, y, tgt) in enumerate(train_loader):\n",
        "    x, y, tgt = x.to(device), y.to(device), tgt.to(device)\n",
        "    \n",
        "    tgt = tgt[:,:,0]\n",
        "    net.train()\n",
        "    scheduler.set_batch_data(x)  \n",
        "      \n",
        "    out = net(x, y)\n",
        "    loss = criterion(out, tgt)\n",
        "            \n",
        "    optimizer.zero_grad()\n",
        "    loss.backward()\n",
        "    optimizer.step()\n",
        "    scheduler.step()\n",
        "    lrs.append(scheduler.get_last_lr())\n",
        "    bvs.append(scheduler.get_batch_variance())\n",
        "      \n",
        "    out_npy = out.to('cpu').detach().numpy().copy()\n",
        "    tgt_npy = tgt.to('cpu').detach().numpy().copy()\n",
        "\n",
        "    pred_log_train = np.concatenate([pred_log_train, out_npy], axis=0)\n",
        "    tgt_log_train = np.concatenate([tgt_log_train, tgt_npy], axis=0)   \n",
        "  break\n",
        "\n",
        "  if epoch == 0:\n",
        "    max_iteration = iter + 1\n",
        "  train_loss_log.append(loss.item())      \n",
        "  val_loss = check_data(device, val_loader, net, criterion)\n",
        "  val_loss_log.append(val_loss)# MSE\n",
        "  print(\"epoch : {}, MSE loss : {}, RMSE loss : {}\".format(epoch, loss.item(), torch.sqrt(loss).item()))\n",
        "  # print(\"*************validation******************\")\n",
        "  print(\"val_loss : {}, rmse : {}\\n\".format(val_loss, math.sqrt(val_loss)))\n",
        "  \n",
        "  # save low train loss model\n",
        "  if loss < best_train_loss:\n",
        "    best_train_loss = loss\n",
        "    best_train_epoch = epoch\n",
        "    torch.save(net.state_dict(), os.path.join(model_path, \"best_train_loss_model.model\"))\n",
        "\n",
        "  # save low val loss model\n",
        "  if val_loss < best_val_loss:\n",
        "    best_val_loss = val_loss\n",
        "    best_val_epoch = epoch\n",
        "    torch.save(net.state_dict(), os.path.join(model_path, \"best_val_loss_model.model\"))\n",
        "    \n",
        "  # save both loss model\n",
        "  if loss < best_train_loss and val_loss < best_val_loss:\n",
        "    best_both_loss = (loss, val_loss)\n",
        "    best_both_epoch = epoch\n",
        "    torch.save(net.state_dict(), os.path.join(model_path, \"best_both_loss_model.model\"))\n",
        "\n",
        "  # save model\n",
        "  if epoch % save_each == 0 or epoch == max_epoch - 1:\n",
        "    torch.save(net.state_dict(), os.path.join(model_path, '{}_epoch.model'.format(epoch)))"
      ]
    },
    {
      "cell_type": "code",
      "execution_count": 426,
      "metadata": {},
      "outputs": [
        {
          "data": {
            "text/plain": [
              "[<matplotlib.lines.Line2D at 0x1ddc9aab3a0>]"
            ]
          },
          "execution_count": 426,
          "metadata": {},
          "output_type": "execute_result"
        },
        {
          "data": {
            "image/png": "[encoded data removed]",
            "text/plain": [
              "<Figure size 700x400 with 1 Axes>"
            ]
          },
          "metadata": {},
          "output_type": "display_data"
        }
      ],
      "source": [
        "plt.figure(figsize=(7,4))\n",
        "# plt.set_ylim(bottom=0.00001)\n",
        "plt.grid(True)\n",
        "plt.ylabel(\"Learning Rate\")\n",
        "plt.xlabel(\"Step\")\n",
        "# plt.ylim(ymin=0.0001)\n",
        "plt.plot(lrs)"
      ]
    },
    {
      "cell_type": "markdown",
      "metadata": {},
      "source": []
    },
    {
      "cell_type": "code",
      "execution_count": 249,
      "metadata": {},
      "outputs": [],
      "source": [
        "train_loss_np = np.array(train_loss_log)\n",
        "val_loss_np = np.array(val_loss_log)"
      ]
    },
    {
      "cell_type": "code",
      "execution_count": 250,
      "metadata": {},
      "outputs": [],
      "source": [
        "# from numpy import savetxt\n",
        "# savetxt('saved_train_log/WIND_Konvensional.csv', val_loss_np4, delimiter=',')"
      ]
    },
    {
      "cell_type": "code",
      "execution_count": 251,
      "metadata": {},
      "outputs": [],
      "source": [
        "# len(val_loss_np3[80:-1])\n",
        "# len(range(80,99))"
      ]
    },
    {
      "cell_type": "code",
      "execution_count": 252,
      "metadata": {},
      "outputs": [],
      "source": [
        "# # import matplotlib.pyplot as plt\n",
        "\n",
        "# fig, ax = plt.subplots(figsize=(15,6))\n",
        "# # ax.plot(train_loss_np3, label=\"train\")\n",
        "# ax.plot(range(63, 100),val_loss_np1[63:], label=\"Deep Transformer dengan Sigmoid + Batch Auto Correlation Variance\")\n",
        "# ax.plot(range(63, 100),val_loss_np2[63:], label=\"Deep Transformer dengan Cyclic Leaning Rate\")\n",
        "# ax.plot(range(63, 100),val_loss_np4[63:], label=\"Deep Transformer Konvensional\")\n",
        "# # plt.xticks(range(80, 99)5)\n",
        "# plt.xticks(ticks=range(63, 100, 1), labels=range(63, 100, 1))\n",
        "# plt.legend()\n",
        "# ax.set_xlabel(\"Epoch\")\n",
        "# ax.set_ylabel(\"Loss\")\n",
        "# plt.grid(True)\n",
        "\n",
        "# plt.show()"
      ]
    },
    {
      "cell_type": "code",
      "execution_count": 253,
      "metadata": {},
      "outputs": [
        {
          "data": {
            "image/png": "[encoded data removed]",
            "text/plain": [
              "<Figure size 700x400 with 1 Axes>"
            ]
          },
          "metadata": {},
          "output_type": "display_data"
        }
      ],
      "source": [
        "import matplotlib.pyplot as plt\n",
        "\n",
        "fig, ax = plt.subplots(figsize=(7,4))\n",
        "ax.plot(train_loss_np, label=\"train\")\n",
        "ax.plot(val_loss_np, label=\"validation\")\n",
        "plt.title(\"MSE Loss\")\n",
        "plt.legend()\n",
        "plt.show()"
      ]
    },
    {
      "cell_type": "code",
      "execution_count": 254,
      "metadata": {},
      "outputs": [
        {
          "data": {
            "text/plain": [
              "(0, 0, inf)"
            ]
          },
          "execution_count": 254,
          "metadata": {},
          "output_type": "execute_result"
        }
      ],
      "source": [
        "best_train_epoch, best_val_epoch,best_val_loss"
      ]
    },
    {
      "cell_type": "code",
      "execution_count": 255,
      "metadata": {},
      "outputs": [],
      "source": [
        "min_plot = best_val_epoch-10 if best_val_epoch >= 10 else 0\n",
        "max_plot = best_val_epoch+10"
      ]
    },
    {
      "cell_type": "code",
      "execution_count": 256,
      "metadata": {},
      "outputs": [
        {
          "data": {
            "image/png": "[encoded data removed]",
            "text/plain": [
              "<Figure size 700x400 with 1 Axes>"
            ]
          },
          "metadata": {},
          "output_type": "display_data"
        }
      ],
      "source": [
        "import matplotlib.pyplot as plt\n",
        "\n",
        "fig, ax = plt.subplots(figsize=(7,4))\n",
        "ax.plot(train_loss_np[min_plot:max_plot], label=\"train\")\n",
        "ax.plot(val_loss_np[min_plot:max_plot], label = \"validation\")\n",
        "plt.title(\"MSE Loss\")\n",
        "plt.grid(which='both')\n",
        "plt.legend()\n",
        "plt.show()"
      ]
    },
    {
      "cell_type": "markdown",
      "metadata": {},
      "source": [
        "### Testing"
      ]
    },
    {
      "cell_type": "code",
      "execution_count": 257,
      "metadata": {},
      "outputs": [],
      "source": [
        "def make_dataloader(data, input_step, predict_step, batch_size=1):\n",
        "    dataset = Dataset(data, input_step, predict_step)\n",
        "    dataloader = torch.utils.data.DataLoader(dataset, batch_size=batch_size, shuffle=False)\n",
        "    return dataset, dataloader"
      ]
    },
    {
      "cell_type": "code",
      "execution_count": 258,
      "metadata": {},
      "outputs": [],
      "source": [
        "torch.set_printoptions(precision=5, sci_mode=False)\n",
        "np.set_printoptions(precision=5, suppress=True)\n",
        "\n",
        "device = torch.device(\"cuda\" if torch.cuda.is_available() else \"cpu\")"
      ]
    },
    {
      "cell_type": "code",
      "execution_count": 259,
      "metadata": {},
      "outputs": [],
      "source": [
        "test_set, test_loader = make_dataloader(test, input_step, predict_step, batch_size=600)\n",
        "all_data = test_set.data[:,0]"
      ]
    },
    {
      "cell_type": "code",
      "execution_count": 260,
      "metadata": {},
      "outputs": [
        {
          "data": {
            "text/plain": [
              "(120, 1)"
            ]
          },
          "execution_count": 260,
          "metadata": {},
          "output_type": "execute_result"
        }
      ],
      "source": [
        "test_set.data.shape"
      ]
    },
    {
      "cell_type": "code",
      "execution_count": 261,
      "metadata": {},
      "outputs": [
        {
          "data": {
            "text/plain": [
              "120"
            ]
          },
          "execution_count": 261,
          "metadata": {},
          "output_type": "execute_result"
        }
      ],
      "source": [
        "test.size"
      ]
    },
    {
      "cell_type": "code",
      "execution_count": 262,
      "metadata": {},
      "outputs": [
        {
          "name": "stdout",
          "output_type": "stream",
          "text": [
            "0\n"
          ]
        }
      ],
      "source": [
        "epoch_num = best_val_epoch\n",
        "print(epoch_num)\n",
        "par_path = os.path.join(model_path, \"best_val_loss_model.model\")"
      ]
    },
    {
      "cell_type": "code",
      "execution_count": null,
      "metadata": {},
      "outputs": [],
      "source": [
        "net = Transformer(device, d_model, in_dim, N_enc, N_dec, h_enc, h_dec, ff_hidnum, hid_pre, hid_post, dropout_pre, dropout_post, dropout_model, norm_first)\n",
        "    \n",
        "# load parameter\n",
        "if device == torch.device(\"cpu\"):\n",
        "  net.load_state_dict(torch.load(par_path, map_location=torch.device(\"cpu\")))\n",
        "else:\n",
        "  net.load_state_dict(torch.load(par_path,map_location=torch.device(device)))"
      ]
    },
    {
      "cell_type": "code",
      "execution_count": null,
      "metadata": {},
      "outputs": [],
      "source": [
        "net.eval()\n",
        "\n",
        "pred_list = np.zeros((1, predict_step))\n",
        "for iter, (x, y, tgt) in enumerate(test_loader):\n",
        "    tgt = tgt[:,:,0]\n",
        "\n",
        "    out = net.generate(x, tgt.shape[1], y[:,[0],:],multi)\n",
        "    out = out.to('cpu').detach().numpy().copy()\n",
        "\n",
        "    pred_list = np.concatenate([pred_list, out], axis=0)\n",
        "\n",
        "pred_list = pred_list[1:]\n",
        "D = []\n",
        "for i in range(predict_step):\n",
        "    tmp = np.concatenate([all_data[:(input_step+i)], pred_list[:,i], all_data[(all_data.shape[0]-(predict_step - (i + 1))):]])\n",
        "    D.append(tmp)\n",
        "\n",
        "for step_num, tmp_data in enumerate(D):\n",
        "    n = step_num + 1\n",
        "\n",
        "    np.save(os.path.join(test_result_path, \"pred{}_epoch{}\".format(n, epoch_num)), pred_list[:,[step_num]])\n",
        "    np.save(os.path.join(test_result_path, \"tgt{}_epoch{}\".format(n, epoch_num)), tgt[:,[step_num]])"
      ]
    },
    {
      "cell_type": "code",
      "execution_count": null,
      "metadata": {},
      "outputs": [
        {
          "data": {
            "image/png": "[encoded data removed]",
            "text/plain": [
              "<Figure size 1000x500 with 1 Axes>"
            ]
          },
          "metadata": {},
          "output_type": "display_data"
        }
      ],
      "source": [
        "all_data_denorm = np.round(scaler.inverse_transform(all_data.reshape(all_data.size,1)))\n",
        "\n",
        "fig, (ax1) = plt.subplots(1, 1,figsize=(10,5), sharex=True, sharey=True)\n",
        "fig.suptitle(f'Prediction plot epoch {epoch_num}')\n",
        "for i,C in enumerate(D):\n",
        "  d_denorm = np.round(scaler.inverse_transform(C.reshape(C.size,1)))\n",
        "  ax1.plot(d_denorm, label=f'predict {i+1}')\n",
        "ax1.axvline(input_step-1, ls='dashed', c='r')\n",
        "ax1.plot(all_data_denorm, label='true')\n",
        "ax1.legend()\n",
        "\n",
        "plt.show()"
      ]
    },
    {
      "cell_type": "code",
      "execution_count": null,
      "metadata": {},
      "outputs": [
        {
          "data": {
            "image/png": "[encoded data removed]",
            "text/plain": [
              "<Figure size 1000x500 with 1 Axes>"
            ]
          },
          "metadata": {},
          "output_type": "display_data"
        }
      ],
      "source": [
        "all_data_denorm = np.round(scaler.inverse_transform(all_data.reshape(all_data.size,1)))\n",
        "temp_1=None\n",
        "\n",
        "fig, (ax1) = plt.subplots(1, 1,figsize=(10,5), sharex=True, sharey=True)\n",
        "fig.suptitle(f'Prediction plot epoch {epoch_num}')\n",
        "for i,C in enumerate(D):\n",
        "  temp_1 = np.round(scaler.inverse_transform(C.reshape(C.size,1)))\n",
        "\n",
        "ax1.plot(temp_1, label=f'predict')\n",
        "ax1.axvline(input_step-1, ls='dashed', c='r')\n",
        "ax1.plot(all_data_denorm, label='true')\n",
        "ax1.legend()\n",
        "\n",
        "plt.show()"
      ]
    },
    {
      "cell_type": "code",
      "execution_count": null,
      "metadata": {},
      "outputs": [],
      "source": [
        "from numpy import savetxt\n",
        "savetxt('content/BAB 6/modelLain/Wind_trans_adam.csv', temp_1, delimiter=',')"
      ]
    },
    {
      "cell_type": "code",
      "execution_count": null,
      "metadata": {},
      "outputs": [],
      "source": [
        "from sklearn.metrics import mean_squared_error, mean_absolute_error, mean_absolute_percentage_error"
      ]
    },
    {
      "cell_type": "code",
      "execution_count": null,
      "metadata": {},
      "outputs": [
        {
          "name": "stdout",
          "output_type": "stream",
          "text": [
            "Error Pred 1\n",
            "MAPE\t : 22.13762\n",
            "MAE\t : 121.32323\n",
            "MSE\t : 28810.47475\n",
            "RMSE\t : 169.73649\n",
            "\n",
            "Rata-rata MAPE  22.13762\n"
          ]
        }
      ],
      "source": [
        "MAPE = []\n",
        "for ind, d in enumerate(D):\n",
        "    d_denorm = np.round(scaler.inverse_transform(d.reshape(d.size,1)))\n",
        "    print(f\"Error Pred {ind+1}\")\n",
        "    print(f\"MAPE\\t : {np.round(mean_absolute_percentage_error(all_data_denorm[input_step+ind:], d_denorm[input_step+ind:])*100,5)}\")\n",
        "    print(f\"MAE\\t : {np.round(mean_absolute_error(all_data_denorm[input_step+ind:], d_denorm[input_step+ind:]),5)}\")\n",
        "    print(f\"MSE\\t : {np.round(mean_squared_error(all_data_denorm[input_step+ind:], d_denorm[input_step+ind:]),5)}\")\n",
        "    print(f\"RMSE\\t : {np.round(np.sqrt(mean_squared_error(all_data_denorm[input_step+ind:], d_denorm[input_step+ind:])),5)}\\n\")\n",
        "    MAPE.append(np.round(mean_absolute_percentage_error(all_data_denorm[input_step+ind:], d_denorm[input_step+ind:])*100,5))\n",
        "print(\"Rata-rata MAPE \",np.round(np.mean(MAPE),5))"
      ]
    },
    {
      "cell_type": "code",
      "execution_count": null,
      "metadata": {},
      "outputs": [],
      "source": [
        "raise TimeoutError(\"Stopped\")"
      ]
    },
    {
      "cell_type": "markdown",
      "metadata": {
        "id": "1Biv2HNiffBI"
      },
      "source": [
        "## Learning Rate Range Test"
      ]
    },
    {
      "cell_type": "code",
      "execution_count": null,
      "metadata": {
        "id": "pZTlPVllffBI"
      },
      "outputs": [],
      "source": [
        "lrrt_model = Transformer(device, d_model, in_dim, N_enc, N_dec, h_enc, h_dec, ff_hidnum, hid_pre, hid_post, dropout_pre, dropout_post, dropout_model, norm_first)\n",
        "lrrt_model=lrrt_model.to(device)\n",
        "state_before_train_lrrt=lrrt_model.state_dict().copy()\n",
        "fix_seed(30)\n"
      ]
    },
    {
      "cell_type": "code",
      "execution_count": null,
      "metadata": {
        "id": "fIbik_LkffBI",
        "outputId": "89661aad-b643-41db-e39e-1abad79972c3"
      },
      "outputs": [],
      "source": [
        "def find_lr(model, train_loader, criterion, optimizer, init_lr=1e-6, final_lr=1e-1, num_epochs=100):\n",
        "    device = next(model.parameters()).device\n",
        "    lrs = np.logspace(np.log10(init_lr), np.log10(final_lr), num=num_epochs)\n",
        "    losses = []\n",
        "    val_losses = []\n",
        "    for epoch in range(num_epochs):\n",
        "        model.train()\n",
        "        current_lr = lrs[epoch]\n",
        "        for param_group in optimizer.param_groups:\n",
        "            param_group['lr'] = current_lr\n",
        "            print(param_group['lr'])\n",
        "\n",
        "        for iter, (x, y, tgt) in enumerate(train_loader):\n",
        "            x, y, tgt = x.to(device), y.to(device), tgt.to(device)\n",
        "            tgt = tgt[:,:,0]\n",
        "\n",
        "            out = model(x, y)\n",
        "            loss = criterion(out, tgt)\n",
        "            out_npy = out.to('cpu').detach().numpy().copy()\n",
        "            tgt_npy = tgt.to('cpu').detach().numpy().copy()\n",
        "\n",
        "            optimizer.zero_grad()\n",
        "            loss.backward()\n",
        "            optimizer.step()\n",
        "        val_loss = check_data(device, val_loader, model, criterion)\n",
        "        val_losses.append(val_loss)# MSE\n",
        "        losses.append(loss.item())\n",
        "        print(\"epoch {} losses {}\".format(epoch,loss.item()))\n",
        "\n",
        "    return lrs, losses,val_losses"
      ]
    },
    {
      "cell_type": "code",
      "execution_count": null,
      "metadata": {
        "id": "ntGjDrQCffBJ",
        "outputId": "30a4bca1-b2c9-44a4-dc69-b4499e989260"
      },
      "outputs": [
        {
          "name": "stdout",
          "output_type": "stream",
          "text": [
            "1e-06\n"
          ]
        },
        {
          "name": "stdout",
          "output_type": "stream",
          "text": [
            "epoch 0 losses 1.9487667083740234\n",
            "1.1233240329780266e-06\n",
            "epoch 1 losses 1.9328036308288574\n",
            "1.261856883066021e-06\n",
            "epoch 2 losses 1.9150373935699463\n",
            "1.4174741629268049e-06\n",
            "epoch 3 losses 1.8952864408493042\n",
            "1.592282793341094e-06\n",
            "epoch 4 losses 1.8733545541763306\n",
            "1.788649529057435e-06\n",
            "epoch 5 losses 1.8490324020385742\n",
            "2.0092330025650458e-06\n",
            "epoch 6 losses 1.8221111297607422\n",
            "2.2570197196339214e-06\n",
            "epoch 7 losses 1.792354941368103\n",
            "2.5353644939701112e-06\n",
            "epoch 8 losses 1.7595319747924805\n",
            "2.848035868435799e-06\n",
            "epoch 9 losses 1.723408818244934\n",
            "3.1992671377973847e-06\n",
            "epoch 10 losses 1.6837491989135742\n",
            "3.5938136638046257e-06\n",
            "epoch 11 losses 1.6402833461761475\n",
            "4.037017258596558e-06\n",
            "epoch 12 losses 1.5911394357681274\n",
            "4.534878508128582e-06\n",
            "epoch 13 losses 1.5332530736923218\n",
            "5.0941380148163755e-06\n",
            "epoch 14 losses 1.4707690477371216\n",
            "5.72236765935022e-06\n",
            "epoch 15 losses 1.4036391973495483\n",
            "6.4280731172843194e-06\n",
            "epoch 16 losses 1.3319171667099\n",
            "7.220809018385457e-06\n",
            "epoch 17 losses 1.2557531595230103\n",
            "8.111308307896873e-06\n",
            "epoch 18 losses 1.175279974937439\n",
            "9.111627561154887e-06\n",
            "epoch 19 losses 1.0910567045211792\n",
            "1.023531021899027e-05\n",
            "epoch 20 losses 1.0037132501602173\n",
            "1.1497569953977357e-05\n",
            "epoch 21 losses 0.9137859344482422\n",
            "1.2915496650148827e-05\n",
            "epoch 22 losses 0.8223958611488342\n",
            "1.4508287784959402e-05\n",
            "epoch 23 losses 0.7306474447250366\n",
            "1.6297508346206434e-05\n",
            "epoch 24 losses 0.6397923827171326\n",
            "1.8307382802953696e-05\n",
            "epoch 25 losses 0.5511921048164368\n",
            "2.0565123083486515e-05\n",
            "epoch 26 losses 0.4662714898586273\n",
            "2.310129700083158e-05\n",
            "epoch 27 losses 0.38644108176231384\n",
            "2.5950242113997373e-05\n",
            "epoch 28 losses 0.3139854371547699\n",
            "2.9150530628251757e-05\n",
            "epoch 29 losses 0.25434932112693787\n",
            "3.274549162877732e-05\n",
            "epoch 30 losses 0.201018288731575\n",
            "3.678379771828634e-05\n",
            "epoch 31 losses 0.1550339311361313\n",
            "4.1320124001153344e-05\n",
            "epoch 32 losses 0.11780047416687012\n",
            "4.641588833612782e-05\n",
            "epoch 33 losses 0.08655792474746704\n",
            "5.2140082879996844e-05\n",
            "epoch 34 losses 0.06127871945500374\n",
            "5.8570208180566735e-05\n",
            "epoch 35 losses 0.04164333641529083\n",
            "6.579332246575683e-05\n",
            "epoch 36 losses 0.027488013729453087\n",
            "7.390722033525775e-05\n",
            "epoch 37 losses 0.01778976432979107\n",
            "8.302175681319735e-05\n",
            "epoch 38 losses 0.011083325371146202\n",
            "9.326033468832199e-05\n",
            "epoch 39 losses 0.006600498221814632\n",
            "0.00010476157527896651\n",
            "epoch 40 losses 0.0037704675924032927\n",
            "0.0001176811952434998\n",
            "epoch 41 losses 0.0020847339183092117\n",
            "0.00013219411484660288\n",
            "epoch 42 losses 0.0011319491313770413\n",
            "0.0001484968262254465\n",
            "epoch 43 losses 0.0006269259029068053\n",
            "0.0001668100537200059\n",
            "epoch 44 losses 0.00037169415736570954\n",
            "0.0001873817422860383\n",
            "epoch 45 losses 0.0002463303098920733\n",
            "0.00021049041445120198\n",
            "epoch 46 losses 0.00018571293912827969\n",
            "0.00023644894126454073\n",
            "epoch 47 losses 0.0001568361185491085\n",
            "0.00026560877829466864\n",
            "epoch 48 losses 0.00014353680307976902\n",
            "0.00029836472402833405\n",
            "epoch 49 losses 0.00013781979214400053\n",
            "0.0003351602650938841\n",
            "epoch 50 losses 0.0001356412103632465\n",
            "0.00037649358067924675\n",
            "epoch 51 losses 0.0001350441889371723\n",
            "0.0004229242874389499\n",
            "epoch 52 losses 0.00013509392738342285\n",
            "0.00047508101621027984\n",
            "epoch 53 losses 0.00013543295790441334\n",
            "0.0005336699231206307\n",
            "epoch 54 losses 0.00013593050243798643\n",
            "0.0005994842503189409\n",
            "epoch 55 losses 0.00013657205272465944\n",
            "0.0006734150657750821\n",
            "epoch 56 losses 0.0001373614650219679\n",
            "0.000756463327554629\n",
            "epoch 57 losses 0.00013830806710757315\n",
            "0.0008497534359086438\n",
            "epoch 58 losses 0.00013944234524387866\n",
            "0.0009545484566618337\n",
            "epoch 59 losses 0.00014076447405386716\n",
            "0.0010722672220103231\n",
            "epoch 60 losses 0.00014227796054910868\n",
            "0.0012045035402587824\n",
            "epoch 61 losses 0.00014395025209523737\n",
            "0.0013530477745798061\n",
            "epoch 62 losses 0.00014574466331396252\n",
            "0.0015199110829529332\n",
            "epoch 63 losses 0.0001475987519370392\n",
            "0.0017073526474706904\n",
            "epoch 64 losses 0.00014942516281735152\n",
            "0.0019179102616724887\n",
            "epoch 65 losses 0.00015113854897208512\n",
            "0.0021544346900318843\n",
            "epoch 66 losses 0.00015264157264027745\n",
            "0.002420128264794381\n",
            "epoch 67 losses 0.00015386537415906787\n",
            "0.00271858824273294\n",
            "epoch 68 losses 0.00015476382395718247\n",
            "0.0030538555088334154\n",
            "epoch 69 losses 0.00015530749806202948\n",
            "0.003430469286314919\n",
            "epoch 70 losses 0.00015549256931990385\n",
            "0.0038535285937105275\n",
            "epoch 71 losses 0.00015531820827163756\n",
            "0.004328761281083057\n",
            "epoch 72 losses 0.00015476508997380733\n",
            "0.004862601580065354\n",
            "epoch 73 losses 0.000153740678797476\n",
            "0.0054622772176843425\n",
            "epoch 74 losses 0.0001521039375802502\n",
            "0.006135907273413169\n",
            "epoch 75 losses 0.00014964726869948208\n",
            "0.006892612104349695\n",
            "epoch 76 losses 0.0001461101055610925\n",
            "0.007742636826811269\n",
            "epoch 77 losses 0.00014120189007371664\n",
            "0.008697490026177835\n",
            "epoch 78 losses 0.00013466551899909973\n",
            "0.009770099572992247\n",
            "epoch 79 losses 0.00012634553422685713\n",
            "0.010974987654930568\n",
            "epoch 80 losses 0.00011625939077930525\n",
            "0.012328467394420659\n",
            "epoch 81 losses 0.0001046336255967617\n",
            "0.013848863713938717\n",
            "epoch 82 losses 9.194027370540425e-05\n",
            "0.015556761439304723\n",
            "epoch 83 losses 7.881510100560263e-05\n",
            "0.017475284000076828\n",
            "epoch 84 losses 6.588520773220807e-05\n",
            "0.019630406500402726\n",
            "epoch 85 losses 5.352269727154635e-05\n",
            "0.022051307399030457\n",
            "epoch 86 losses 4.271276338840835e-05\n",
            "0.02477076355991709\n",
            "epoch 87 losses 3.905844278051518e-05\n",
            "0.02782559402207126\n",
            "epoch 88 losses 5.1593990065157413e-05\n",
            "0.031257158496882355\n",
            "epoch 89 losses 0.00026264096959494054\n",
            "0.03511191734215127\n",
            "epoch 90 losses 5.3189636673778296e-05\n",
            "0.03944206059437656\n",
            "epoch 91 losses 0.000460694485809654\n",
            "0.044306214575838776\n",
            "epoch 92 losses 4.9897702410817146e-05\n",
            "0.049770235643321135\n",
            "epoch 93 losses 0.000604781846050173\n",
            "0.05590810182512223\n",
            "epoch 94 losses 5.2663657697848976e-05\n",
            "0.06280291441834246\n",
            "epoch 95 losses 0.0003637681365944445\n",
            "0.07054802310718646\n",
            "epoch 96 losses 3.877109702443704e-05\n",
            "0.0792482898353917\n",
            "epoch 97 losses 3.882655801135115e-05\n",
            "0.08902150854450393\n",
            "epoch 98 losses 4.0385977627011016e-05\n",
            "0.1\n",
            "epoch 99 losses 4.0114107832778245e-05\n"
          ]
        }
      ],
      "source": [
        "optimizer = optim.SGD(lrrt_model.parameters(), lr=1e-3)\n",
        "criterion = nn.MSELoss()\n",
        "learning_rates, losses,val_losses = find_lr(lrrt_model, train_loader, criterion, optimizer)\n",
        "fix_seed(30)"
      ]
    },
    {
      "cell_type": "code",
      "execution_count": null,
      "metadata": {},
      "outputs": [],
      "source": [
        "train_loss_np = np.array(losses)\n",
        "val_loss_np = np.array(val_losses)"
      ]
    },
    {
      "cell_type": "code",
      "execution_count": null,
      "metadata": {
        "id": "Yzdg45n4ffBJ",
        "outputId": "508deb69-08e5-4d4b-a386-91793106ec01"
      },
      "outputs": [
        {
          "name": "stdout",
          "output_type": "stream",
          "text": [
            "Learning rate terbaik: 0.07054802310718646, pada epoch 96 dengan loss 3.877109702443704e-05\n"
          ]
        },
        {
          "data": {
            "image/png": "[encoded data removed]",
            "text/plain": [
              "<Figure size 700x400 with 1 Axes>"
            ]
          },
          "metadata": {},
          "output_type": "display_data"
        }
      ],
      "source": [
        "# Simpan nilai learning rate dengan loss terkecil menggunakan MAE\n",
        "fig, ax = plt.subplots(figsize=(7,4))\n",
        "ax.plot(train_loss_np, label=\"train\")\n",
        "ax.plot(val_loss_np, label=\"validation\")\n",
        "best_lr = learning_rates[np.argmin(losses)]\n",
        "best_epoch = np.argmin(losses)\n",
        "best_loss = np.min(losses)\n",
        "print(f\"Learning rate terbaik: {best_lr}, pada epoch {best_epoch} dengan loss {best_loss}\")"
      ]
    },
    {
      "cell_type": "markdown",
      "metadata": {},
      "source": [
        "Stopper"
      ]
    },
    {
      "cell_type": "code",
      "execution_count": null,
      "metadata": {},
      "outputs": [
        {
          "ename": "NameError",
          "evalue": "name 'stopper' is not defined",
          "output_type": "error",
          "traceback": [
            "\u001b[1;31m---------------------------------------------------------------------------\u001b[0m",
            "\u001b[1;31mNameError\u001b[0m                                 Traceback (most recent call last)",
            "\u001b[1;32mc:\\Users\\arthu\\Documents\\EDUCATION\\Kuliah\\SEM 7\\Code\\Deep_Transformer_program.ipynb Cell 86\u001b[0m line \u001b[0;36m1\n\u001b[1;32m----> <a href='vscode-notebook-cell:/c%3A/Users/arthu/Documents/EDUCATION/Kuliah/SEM%207/Code/Deep_Transformer_program.ipynb#Y151sZmlsZQ%3D%3D?line=0'>1</a>\u001b[0m stopper\n\u001b[0;32m      <a href='vscode-notebook-cell:/c%3A/Users/arthu/Documents/EDUCATION/Kuliah/SEM%207/Code/Deep_Transformer_program.ipynb#Y151sZmlsZQ%3D%3D?line=1'>2</a>\u001b[0m \u001b[39mraise\u001b[39;00m \u001b[39mNameError\u001b[39;00m()\n",
            "\u001b[1;31mNameError\u001b[0m: name 'stopper' is not defined"
          ]
        }
      ],
      "source": [
        "stopper\n",
        "raise NameError()"
      ]
    },
    {
      "cell_type": "markdown",
      "metadata": {
        "id": "RvM6co9ygZtI"
      },
      "source": [
        "## CLR"
      ]
    },
    {
      "cell_type": "code",
      "execution_count": null,
      "metadata": {},
      "outputs": [],
      "source": [
        "import numpy as np"
      ]
    },
    {
      "cell_type": "code",
      "execution_count": null,
      "metadata": {},
      "outputs": [],
      "source": [
        "best_lr=0.00689261"
      ]
    },
    {
      "cell_type": "code",
      "execution_count": null,
      "metadata": {
        "id": "fo-k_e-PffBK"
      },
      "outputs": [],
      "source": [
        "clr_model = Transformer(device, d_model, in_dim, N_enc, N_dec, h_enc, h_dec, ff_hidnum, hid_pre, hid_post, dropout_pre, dropout_post, dropout_model, norm_first)\n",
        "clr_model=clr_model.to(device)\n",
        "optimizer = optim.SGD(clr_model.parameters(), lr=1e-3)\n",
        "criterion = nn.MSELoss()\n",
        "fix_seed(30)\n",
        "# raise KeyError()"
      ]
    },
    {
      "cell_type": "markdown",
      "metadata": {},
      "source": [
        "### Cosine CLR"
      ]
    },
    {
      "cell_type": "code",
      "execution_count": null,
      "metadata": {},
      "outputs": [],
      "source": [
        "from torch.optim.lr_scheduler import _LRScheduler\n",
        "class CosineCyclicLR(_LRScheduler):\n",
        "    def __init__(self, optimizer, base_lr, max_lr, step_size, last_epoch=-1):\n",
        "        self.base_lr = base_lr\n",
        "        self.max_lr = max_lr\n",
        "        self.step_size = step_size\n",
        "        super(CosineCyclicLR, self).__init__(optimizer, last_epoch)\n",
        "\n",
        "    def get_lr(self):\n",
        "        cycle = math.floor(1 + self.last_epoch / (2 * self.step_size))\n",
        "        x = abs(self.last_epoch / self.step_size - 2 * cycle + 1)\n",
        "        lr = self.base_lr + (self.max_lr - self.base_lr) * (1 + math.cos(math.pi * x)) / 2\n",
        "        return [lr for _ in self.base_lrs]"
      ]
    },
    {
      "cell_type": "markdown",
      "metadata": {},
      "source": [
        "### Improve Cosine LR"
      ]
    },
    {
      "cell_type": "code",
      "execution_count": null,
      "metadata": {},
      "outputs": [],
      "source": [
        "data=pd.read_csv(\"Data/ETTm2.csv\")\n",
        "data=data.dropna(subset=[\"OT\"])\n",
        "data_ett=data[\"OT\"].to_numpy()\n",
        "data_ett_var=np.var(data_ett)"
      ]
    },
    {
      "cell_type": "code",
      "execution_count": null,
      "metadata": {},
      "outputs": [
        {
          "data": {
            "text/plain": [
              "141.28771749571416"
            ]
          },
          "execution_count": 216,
          "metadata": {},
          "output_type": "execute_result"
        }
      ],
      "source": [
        "data_ett_var"
      ]
    },
    {
      "cell_type": "code",
      "execution_count": null,
      "metadata": {},
      "outputs": [],
      "source": [
        "from torch.optim.lr_scheduler import _LRScheduler\n",
        "class NovelCosineCyclicLR(_LRScheduler):\n",
        "    def __init__(self, optimizer, base_lr, max_lr, step_size, batch_variance,last_epoch=-1):\n",
        "        self.base_lr = base_lr\n",
        "        self.max_lr = max_lr\n",
        "        self.step_size = step_size\n",
        "        self.data=None\n",
        "        self.batch_variance=batch_variance\n",
        "        super(NovelCosineCyclicLR, self).__init__(optimizer, last_epoch)\n",
        "\n",
        "    def get_lr(self):\n",
        "        cycle = math.floor(1 + self.last_epoch / (2 * self.step_size))\n",
        "        x = abs(self.last_epoch / self.step_size - 2 * cycle + 1)\n",
        "        novelty_factor = self.calculate_novelty_factor()\n",
        "        lr = [self.base_lr + (self.max_lr - self.base_lr) * (1 + math.cos(math.pi * x)) / 2 * bv for bv in self.batch_variance]\n",
        "        return lr\n",
        "\n",
        "    def calculate_novelty_factor(self):\n",
        "        if self.novelty_metric == 'variance':\n",
        "            # Example: Calculate variance and normalize\n",
        "            data = data_ett_var # Replace this with your actual data retrieval\n",
        "            novelty_value = data\n",
        "        elif self.novelty_metric == 'mean':\n",
        "            # Example: Calculate mean and normalize\n",
        "            data = self.get_data()  # Replace this with your actual data retrieval\n",
        "            novelty_value = np.mean(data)\n",
        "        # Add more cases for other metrics as needed\n",
        "\n",
        "        return 1 + self.novelty_weight * novelty_value\n",
        "\n",
        "    def get_data(self):\n",
        "        # ett M2\n",
        "        self.data=data_ett\n",
        "        return self.data"
      ]
    },
    {
      "cell_type": "markdown",
      "metadata": {},
      "source": [
        "# Get var for each batch"
      ]
    },
    {
      "cell_type": "code",
      "execution_count": null,
      "metadata": {},
      "outputs": [
        {
          "name": "stdout",
          "output_type": "stream",
          "text": [
            "Rata-rata varians untuk step 0 adalah 0.00019131162844132632\n",
            "Rata-rata varians untuk step 1 adalah 0.00021116390416864306\n",
            "Rata-rata varians untuk step 2 adalah 0.00017902969557326287\n",
            "Rata-rata varians untuk step 3 adalah 0.0002028408198384568\n",
            "Rata-rata varians untuk step 4 adalah 0.0001656918611843139\n",
            "Rata-rata varians untuk step 5 adalah 0.0001818318123696372\n",
            "Rata-rata varians untuk step 6 adalah 0.0002390822337474674\n",
            "Rata-rata varians untuk step 7 adalah 0.00018279647338204086\n",
            "Rata-rata varians untuk step 8 adalah 0.00024956249399110675\n",
            "Rata-rata varians untuk step 9 adalah 0.00019719697593245655\n",
            "Rata-rata varians untuk step 10 adalah 0.00018311820167582482\n",
            "Rata-rata varians untuk step 11 adalah 0.00018570739484857768\n",
            "Rata-rata varians untuk step 12 adalah 0.00025573940365575254\n",
            "Rata-rata varians untuk step 13 adalah 0.00018518982687965035\n",
            "Rata-rata varians untuk step 14 adalah 0.00017527553427498788\n",
            "Rata-rata varians untuk step 15 adalah 0.0001815345895010978\n",
            "Rata-rata varians untuk step 16 adalah 0.0001876130554592237\n",
            "Rata-rata varians untuk step 17 adalah 0.00017636234406381845\n",
            "Rata-rata varians untuk step 18 adalah 0.0003372167411725968\n",
            "Rata-rata varians untuk step 19 adalah 0.00020592592773027718\n",
            "Rata-rata varians untuk step 20 adalah 0.00019170485029462725\n",
            "Rata-rata varians untuk step 21 adalah 0.00016831918037496507\n",
            "Rata-rata varians untuk step 22 adalah 0.0001702792214928195\n",
            "Rata-rata varians untuk step 23 adalah 0.0001781745522748679\n",
            "Rata-rata varians untuk step 24 adalah 0.00016278117254842073\n",
            "Rata-rata varians untuk step 25 adalah 0.00022323531447909772\n",
            "Rata-rata varians untuk step 26 adalah 0.0002994370006490499\n",
            "Rata-rata varians untuk step 27 adalah 0.00023113608767744154\n",
            "Rata-rata varians untuk step 28 adalah 0.0002632629475556314\n",
            "Rata-rata varians untuk step 29 adalah 0.00016360431618522853\n",
            "Rata-rata varians untuk step 30 adalah 0.0001796903961803764\n",
            "Rata-rata varians untuk step 31 adalah 0.00018157833255827427\n",
            "Rata-rata varians untuk step 32 adalah 0.0001826113002607599\n",
            "Rata-rata varians untuk step 33 adalah 0.00017759896581992507\n",
            "Rata-rata varians untuk step 34 adalah 0.00018432718934491277\n",
            "Rata-rata varians untuk step 35 adalah 0.00024351346655748785\n",
            "Rata-rata varians untuk step 36 adalah 0.00017357147589791566\n",
            "Rata-rata varians untuk step 37 adalah 0.00031887448858469725\n",
            "Rata-rata varians untuk step 38 adalah 0.0001743642205838114\n",
            "Rata-rata varians untuk step 39 adalah 0.0001792593830032274\n",
            "Rata-rata varians untuk step 40 adalah 0.00026916575734503567\n",
            "Rata-rata varians untuk step 41 adalah 0.0003064102493226528\n",
            "Rata-rata varians untuk step 42 adalah 0.00017895319615490735\n",
            "Rata-rata varians untuk step 43 adalah 0.00017152624786831439\n",
            "Rata-rata varians untuk step 44 adalah 0.00019878653984051198\n",
            "Rata-rata varians untuk step 45 adalah 0.0003613246663007885\n",
            "Rata-rata varians untuk step 46 adalah 0.0001682182337390259\n",
            "Rata-rata varians untuk step 47 adalah 0.000253082747804001\n",
            "Rata-rata varians untuk step 48 adalah 0.00023761899501550943\n",
            "Rata-rata varians untuk step 49 adalah 0.00030794317717663944\n",
            "Rata-rata varians untuk step 50 adalah 0.0001569815503899008\n"
          ]
        }
      ],
      "source": [
        "var_per_batch=[]\n",
        "for iter, (x, y, tgt) in enumerate(train_loader):\n",
        "    step_var=[]\n",
        "    for items in x:\n",
        "        test=items[:,0]\n",
        "        # print(test.shape)\n",
        "        # print()\n",
        "        step_var.append(torch.var(test))\n",
        "        # print()\n",
        "    # tensor_batch_step_var=torch.cat(step_var,dim=1)\n",
        "    tensor_batch_step_var = torch.FloatTensor(step_var)\n",
        "    mean_step=torch.mean(tensor_batch_step_var)\n",
        "    print(\"Rata-rata varians untuk step {} adalah {}\".format(iter,mean_step))\n",
        "    var_per_batch.append(mean_step)\n",
        "\n",
        "# var_per_batch=torch.mul(var_per_batch,0.01)\n"
      ]
    },
    {
      "cell_type": "code",
      "execution_count": null,
      "metadata": {
        "id": "frJIp1jtffBK",
        "outputId": "f61df890-608a-4d1e-c9d5-941034486ffc"
      },
      "outputs": [
        {
          "name": "stdout",
          "output_type": "stream",
          "text": [
            "epoch : 0, val_loss : 0.08180321409152104, current lr 0.006892646197229624 ,rmse : 0.2860126117700425\n",
            "\n"
          ]
        },
        {
          "name": "stdout",
          "output_type": "stream",
          "text": [
            "epoch : 1, val_loss : 0.030950074155743305, current lr 0.0068927546963095665 ,rmse : 0.17592633161566038\n",
            "\n",
            "epoch : 2, val_loss : 0.005006490275263786, current lr 0.00689293397590518 ,rmse : 0.07075655641185336\n",
            "\n",
            "epoch : 3, val_loss : 0.001003970333840698, current lr 0.006893180776387453 ,rmse : 0.03168549090420879\n",
            "\n",
            "epoch : 4, val_loss : 0.000704461363896441, current lr 0.006893491372466087 ,rmse : 0.026541691051936402\n",
            "\n",
            "epoch : 5, val_loss : 0.0006238428401187635, current lr 0.006893860641866922 ,rmse : 0.024976846080295316\n",
            "\n",
            "epoch : 6, val_loss : 0.0005749452617377616, current lr 0.006894283462315798 ,rmse : 0.023978016217730807\n",
            "\n",
            "epoch : 7, val_loss : 0.0005370693778296789, current lr 0.006894751917570829 ,rmse : 0.02317475734133324\n",
            "\n",
            "epoch : 8, val_loss : 0.0004973393739559329, current lr 0.006895259954035282 ,rmse : 0.022301107011893667\n",
            "\n",
            "epoch : 9, val_loss : 0.0004794854724493164, current lr 0.006895798724144697 ,rmse : 0.021897156720663905\n",
            "\n",
            "epoch : 10, val_loss : 0.0004857379759554393, current lr 0.00689636031165719 ,rmse : 0.02203946405780865\n",
            "\n",
            "epoch : 11, val_loss : 0.0004476068872743501, current lr 0.006896935403347015 ,rmse : 0.021156722035191325\n",
            "\n",
            "epoch : 12, val_loss : 0.0004291507446816048, current lr 0.006897514685988426 ,rmse : 0.020715953868494803\n",
            "\n",
            "epoch : 13, val_loss : 0.0004134643084118859, current lr 0.006898089777678251 ,rmse : 0.020333821785682247\n",
            "\n",
            "epoch : 14, val_loss : 0.00041069858259736345, current lr 0.006898651365190744 ,rmse : 0.02026569965723768\n",
            "\n",
            "epoch : 15, val_loss : 0.0004101155925757037, current lr 0.0068991901353001595 ,rmse : 0.02025131088536502\n",
            "\n",
            "epoch : 16, val_loss : 0.00041025247684536647, current lr 0.006899698171764612 ,rmse : 0.02025469024313545\n",
            "\n",
            "epoch : 17, val_loss : 0.0003874675245382465, current lr 0.006900167092680931 ,rmse : 0.019684194790192625\n",
            "\n",
            "epoch : 18, val_loss : 0.0003845811499139437, current lr 0.006900589447468519 ,rmse : 0.019610740677341684\n",
            "\n",
            "epoch : 19, val_loss : 0.00037690655041772587, current lr 0.006900958716869354 ,rmse : 0.019414081240628562\n",
            "\n",
            "epoch : 20, val_loss : 0.00037913527474022255, current lr 0.0069012693129479885 ,rmse : 0.019471396322303713\n",
            "\n",
            "epoch : 21, val_loss : 0.00039519804816406506, current lr 0.006901516113430262 ,rmse : 0.0198795887322667\n",
            "\n",
            "epoch : 22, val_loss : 0.0005469891430738454, current lr 0.006901695393025875 ,rmse : 0.02338779902158058\n",
            "\n",
            "epoch : 23, val_loss : 0.0003557513275434478, current lr 0.006901803892105818 ,rmse : 0.018861371306017168\n",
            "\n",
            "epoch : 24, val_loss : 0.00036470269193299685, current lr 0.006901840213686228 ,rmse : 0.019097190681694437\n",
            "\n",
            "epoch : 25, val_loss : 0.00034480133371499297, current lr 0.006901803892105818 ,rmse : 0.018568826934273284\n",
            "\n",
            "epoch : 26, val_loss : 0.0003524145398002404, current lr 0.006901695393025875 ,rmse : 0.01877270731141996\n",
            "\n",
            "epoch : 27, val_loss : 0.0003445992300000328, current lr 0.006901516113430262 ,rmse : 0.018563384120359974\n",
            "\n",
            "epoch : 28, val_loss : 0.00033602512289340107, current lr 0.0069012693129479885 ,rmse : 0.018330988050113423\n",
            "\n",
            "epoch : 29, val_loss : 0.00033716340056763817, current lr 0.006900958716869354 ,rmse : 0.01836200970938743\n",
            "\n",
            "epoch : 30, val_loss : 0.0003285588083179811, current lr 0.006900589447468519 ,rmse : 0.018126191224799023\n",
            "\n",
            "epoch : 31, val_loss : 0.00033047665223980753, current lr 0.006900167092680931 ,rmse : 0.018179016811692747\n",
            "\n",
            "epoch : 32, val_loss : 0.00034716504384190415, current lr 0.006899698171764612 ,rmse : 0.018632365492387275\n",
            "\n",
            "epoch : 33, val_loss : 0.0003215526185858135, current lr 0.0068991901353001595 ,rmse : 0.01793188831623188\n",
            "\n",
            "epoch : 34, val_loss : 0.0003323736063276346, current lr 0.006898651365190744 ,rmse : 0.018231116431190783\n",
            "\n",
            "epoch : 35, val_loss : 0.000330264592776075, current lr 0.006898089777678251 ,rmse : 0.018173183341838463\n",
            "\n",
            "epoch : 36, val_loss : 0.00032080056889054295, current lr 0.006897514685988426 ,rmse : 0.017910906422918493\n",
            "\n",
            "epoch : 37, val_loss : 0.0003172777785668866, current lr 0.006896935403347015 ,rmse : 0.017812292905936805\n",
            "\n",
            "epoch : 38, val_loss : 0.00032306575583508954, current lr 0.00689636031165719 ,rmse : 0.017974030038783444\n",
            "\n",
            "epoch : 39, val_loss : 0.0003185774168322006, current lr 0.006895798724144697 ,rmse : 0.017848737121494075\n",
            "\n",
            "epoch : 40, val_loss : 0.0003142916897419267, current lr 0.006895259954035282 ,rmse : 0.01772827373835159\n",
            "\n",
            "epoch : 41, val_loss : 0.0003204958383531238, current lr 0.006894751917570829 ,rmse : 0.017902397558794293\n",
            "\n",
            "epoch : 42, val_loss : 0.00032595744078907254, current lr 0.006894283462315798 ,rmse : 0.018054291478456653\n",
            "\n",
            "epoch : 43, val_loss : 0.00031975321158265264, current lr 0.006893860641866922 ,rmse : 0.017881644543571842\n",
            "\n",
            "epoch : 44, val_loss : 0.00032418995844916656, current lr 0.006893491372466087 ,rmse : 0.018005275850404696\n",
            "\n",
            "epoch : 45, val_loss : 0.0003139182517770678, current lr 0.006893180776387453 ,rmse : 0.017717738336962417\n",
            "\n",
            "epoch : 46, val_loss : 0.000316109772449216, current lr 0.00689293397590518 ,rmse : 0.017779476157896667\n",
            "\n",
            "epoch : 47, val_loss : 0.0003180601522147369, current lr 0.0068927546963095665 ,rmse : 0.01783424100472843\n",
            "\n",
            "epoch : 48, val_loss : 0.00030759612743098003, current lr 0.006892646197229624 ,rmse : 0.0175384186126053\n",
            "\n",
            "epoch : 49, val_loss : 0.0003091904979485732, current lr 0.006892609875649214 ,rmse : 0.017583813521206748\n",
            "\n",
            "epoch : 50, val_loss : 0.00031208304930120136, current lr 0.006892646197229624 ,rmse : 0.017665872446646993\n",
            "\n",
            "epoch : 51, val_loss : 0.00032204001595696004, current lr 0.0068927546963095665 ,rmse : 0.017945473411335795\n",
            "\n",
            "epoch : 52, val_loss : 0.00031153816514863417, current lr 0.00689293397590518 ,rmse : 0.01765044376633727\n",
            "\n",
            "epoch : 53, val_loss : 0.000310030013609391, current lr 0.006893180776387453 ,rmse : 0.017607669170261887\n",
            "\n",
            "epoch : 54, val_loss : 0.0003203800476442736, current lr 0.006893491372466087 ,rmse : 0.017899163322464925\n",
            "\n",
            "epoch : 55, val_loss : 0.0003216496216527258, current lr 0.006893860641866922 ,rmse : 0.017934592876692957\n",
            "\n",
            "epoch : 56, val_loss : 0.0003078951491401173, current lr 0.006894283462315798 ,rmse : 0.017546941304401667\n",
            "\n",
            "epoch : 57, val_loss : 0.00030713808910849574, current lr 0.006894751917570829 ,rmse : 0.017525355605764344\n",
            "\n",
            "epoch : 58, val_loss : 0.0003092547860712959, current lr 0.006895259954035282 ,rmse : 0.01758564147454667\n",
            "\n",
            "epoch : 59, val_loss : 0.00030795614181372983, current lr 0.006895798724144697 ,rmse : 0.017548679204251523\n",
            "\n",
            "epoch : 60, val_loss : 0.000305081601254642, current lr 0.00689636031165719 ,rmse : 0.01746658527745598\n",
            "\n",
            "epoch : 61, val_loss : 0.0003063139828065267, current lr 0.006896935403347015 ,rmse : 0.017501827984714245\n",
            "\n",
            "epoch : 62, val_loss : 0.000308452787486693, current lr 0.006897514685988426 ,rmse : 0.017562824017984494\n",
            "\n",
            "epoch : 63, val_loss : 0.00030512655547891674, current lr 0.006898089777678251 ,rmse : 0.01746787209361566\n",
            "\n",
            "epoch : 64, val_loss : 0.00033107664113721024, current lr 0.006898651365190744 ,rmse : 0.018195511565691422\n",
            "\n",
            "epoch : 65, val_loss : 0.00031043094573900674, current lr 0.0068991901353001595 ,rmse : 0.01761905064806293\n",
            "\n",
            "epoch : 66, val_loss : 0.00030677005550107703, current lr 0.006899698171764612 ,rmse : 0.017514852425900625\n",
            "\n",
            "epoch : 67, val_loss : 0.0003261375666345255, current lr 0.006900167092680931 ,rmse : 0.018059279239065036\n",
            "\n",
            "epoch : 68, val_loss : 0.0003009262123109343, current lr 0.006900589447468519 ,rmse : 0.01734722491671029\n",
            "\n",
            "epoch : 69, val_loss : 0.0003028602312462261, current lr 0.006900958716869354 ,rmse : 0.017402879969885047\n",
            "\n",
            "epoch : 70, val_loss : 0.000304639026021155, current lr 0.0069012693129479885 ,rmse : 0.017453911481990363\n",
            "\n",
            "epoch : 71, val_loss : 0.00029877570565216814, current lr 0.006901516113430262 ,rmse : 0.017285129610511114\n",
            "\n",
            "epoch : 72, val_loss : 0.0002984766749880062, current lr 0.006901695393025875 ,rmse : 0.017276477505209394\n",
            "\n",
            "epoch : 73, val_loss : 0.00030419198446907103, current lr 0.006901803892105818 ,rmse : 0.01744110043744577\n",
            "\n",
            "epoch : 74, val_loss : 0.0003018631787899022, current lr 0.006901840213686228 ,rmse : 0.01737421016305208\n",
            "\n",
            "epoch : 75, val_loss : 0.0003046968687648097, current lr 0.006901803892105818 ,rmse : 0.0174555684171215\n",
            "\n",
            "epoch : 76, val_loss : 0.0002993431049757279, current lr 0.006901695393025875 ,rmse : 0.01730153475781059\n",
            "\n",
            "epoch : 77, val_loss : 0.00029999073684358824, current lr 0.006901516113430262 ,rmse : 0.017320240669332174\n",
            "\n",
            "epoch : 78, val_loss : 0.0003078035437143766, current lr 0.0069012693129479885 ,rmse : 0.017544330814094237\n",
            "\n",
            "epoch : 79, val_loss : 0.0003137389341225991, current lr 0.006900958716869354 ,rmse : 0.01771267721499489\n",
            "\n",
            "epoch : 80, val_loss : 0.00029878879789836134, current lr 0.006900589447468519 ,rmse : 0.01728550832050829\n",
            "\n",
            "epoch : 81, val_loss : 0.0003048924151628923, current lr 0.006900167092680931 ,rmse : 0.017461168779978397\n",
            "\n",
            "epoch : 82, val_loss : 0.0002974957684413172, current lr 0.006899698171764612 ,rmse : 0.017248065643466145\n",
            "\n",
            "epoch : 83, val_loss : 0.000299175607953937, current lr 0.0068991901353001595 ,rmse : 0.017296693555530693\n",
            "\n",
            "epoch : 84, val_loss : 0.0003077056317124516, current lr 0.006898651365190744 ,rmse : 0.017541540175037413\n",
            "\n",
            "epoch : 85, val_loss : 0.0002980889806237358, current lr 0.006898089777678251 ,rmse : 0.017265253563841333\n",
            "\n",
            "epoch : 86, val_loss : 0.00029562570181531977, current lr 0.006897514685988426 ,rmse : 0.017193769273062837\n",
            "\n",
            "epoch : 87, val_loss : 0.0003080781316384673, current lr 0.006896935403347015 ,rmse : 0.017552154615273513\n",
            "\n",
            "epoch : 88, val_loss : 0.00029576676136527496, current lr 0.00689636031165719 ,rmse : 0.017197870838137928\n",
            "\n",
            "epoch : 89, val_loss : 0.00029363683111464174, current lr 0.006895798724144697 ,rmse : 0.017135834707263074\n",
            "\n",
            "epoch : 90, val_loss : 0.0003010488603299913, current lr 0.006895259954035282 ,rmse : 0.017350759647058435\n",
            "\n",
            "epoch : 91, val_loss : 0.0002946496220269742, current lr 0.006894751917570829 ,rmse : 0.01716536110971669\n",
            "\n",
            "epoch : 92, val_loss : 0.0003007652457409467, current lr 0.006894283462315798 ,rmse : 0.017342584747982254\n",
            "\n",
            "epoch : 93, val_loss : 0.00029562527645164385, current lr 0.006893860641866922 ,rmse : 0.017193756903354306\n",
            "\n",
            "epoch : 94, val_loss : 0.00030752090298427414, current lr 0.006893491372466087 ,rmse : 0.017536273919629395\n",
            "\n",
            "epoch : 95, val_loss : 0.0002942460862239106, current lr 0.006893180776387453 ,rmse : 0.017153602718493588\n",
            "\n",
            "epoch : 96, val_loss : 0.0002960099887926705, current lr 0.00689293397590518 ,rmse : 0.0172049408250267\n",
            "\n",
            "epoch : 97, val_loss : 0.0003052577443528347, current lr 0.0068927546963095665 ,rmse : 0.017471626837614027\n",
            "\n",
            "epoch : 98, val_loss : 0.00030272271564731805, current lr 0.006892646197229624 ,rmse : 0.01739892857756816\n",
            "\n",
            "epoch : 99, val_loss : 0.000294300573072038, current lr 0.006892609875649214 ,rmse : 0.017155190849187252\n",
            "\n"
          ]
        }
      ],
      "source": [
        "# import torch.optim.lr_scheduler as lr_scheduler\n",
        "best_both_loss_clr = (np.inf, np.inf)\n",
        "best_train_epoch_clr = 0\n",
        "best_val_epoch_clr = 0\n",
        "best_both_epoch_clr = 0\n",
        "best_train_loss_clr = np.inf\n",
        "best_val_loss_clr = np.inf\n",
        "\n",
        "\n",
        "def train_with_clr(model, train_loader, criterion, optimizer, num_epochs,base_lr, max_lr_multiplier, cycle_size):\n",
        "    \n",
        "    # scheduler = CosineCyclicLR(optimizer, base_lr=base_lr,max_lr=(base_lr*max_lr_multiplier), step_size=cycle_size)\n",
        "    scheduler = NovelCosineCyclicLR(optimizer, base_lr=base_lr,max_lr=(base_lr*max_lr_multiplier),novelty_weight=0.01,novelty_metric=\"variance\",step_size=cycle_size,batch_variance=var_per_batch)\n",
        "    train_losses = []\n",
        "    val_losses = []\n",
        "\n",
        "    global best_both_loss_clr\n",
        "    global best_train_epoch_clr\n",
        "    global best_val_epoch_clr\n",
        "    global best_both_epoch_clr\n",
        "    global best_train_loss_clr\n",
        "    global best_val_loss_clr\n",
        "    global max_iteration_clr\n",
        "    global data_ett_var\n",
        "    for epoch in range(num_epochs):\n",
        "        model.train()\n",
        "        total_train_loss = 0.0\n",
        "        tgt_log_train = np.zeros((1,predict_step))\n",
        "        pred_log_train = np.zeros((1,predict_step))\n",
        "\n",
        "        for iter, (x, y, tgt) in enumerate(train_loader):\n",
        "            x, y, tgt = x.to(device), y.to(device), tgt.to(device)\n",
        "            \n",
        "            \n",
        "            tgt = tgt[:,:,0]\n",
        "            model.train()\n",
        "            \n",
        "            out = model(x, y)\n",
        "            loss = criterion(out, tgt)\n",
        "            out_npy = out.to('cpu').detach().numpy().copy()\n",
        "            tgt_npy = tgt.to('cpu').detach().numpy().copy()\n",
        "            pred_log_train = np.concatenate([pred_log_train, out_npy], axis=0)\n",
        "            tgt_log_train = np.concatenate([tgt_log_train, tgt_npy], axis=0)\n",
        "            # print(\"step {}, lr {}\".format(iter,optimizer.param_groups[0]['lr']))\n",
        "            \n",
        "            optimizer.zero_grad()\n",
        "            loss.backward()\n",
        "            optimizer.step()\n",
        "            scheduler.step()  # Update learning rate\n",
        "            total_train_loss += loss.item()\n",
        "            # print(data_ett_var)\n",
        "        # print(f'Epoch [{epoch+1}/{num_epochs}], Loss: {avg_loss:.4f}')\n",
        "\n",
        "        if epoch == 0:\n",
        "            max_iteration_clr = iter + 1\n",
        "        train_losses.append(loss.item())\n",
        "        val_loss = check_data(device, val_loader, clr_model, criterion)\n",
        "        val_losses.append(val_loss)# MSE\n",
        "\n",
        "        # print(\"*************validation******************\")\n",
        "        print(\"epoch : {}, val_loss : {}, current lr {} ,rmse : {}\\n\".format(epoch,val_loss, scheduler.get_lr()[0], math.sqrt(val_loss)))\n",
        "        # print(\"epoch : {}, val_loss : {}, current lr {} ,rmse : {}\\n\".format(epoch,val_loss, optimizer.param_groups[0]['lr'], math.sqrt(val_loss)))\n",
        "\n",
        "        #   save low train loss model\n",
        "        if loss < best_train_loss_clr:\n",
        "            best_train_loss_clr = loss\n",
        "            best_train_epoch_clr = epoch\n",
        "            torch.save(model.state_dict(), os.path.join(model_path, \"best_train_loss_model_clr.model\"))\n",
        "\n",
        "        # save low val loss model\n",
        "        if val_loss < best_val_loss_clr:\n",
        "            best_val_loss_clr = val_loss\n",
        "            best_val_epoch_clr = epoch\n",
        "            torch.save(model.state_dict(), os.path.join(model_path, \"best_val_loss_model_clr.model\"))\n",
        "\n",
        "        # save both loss model\n",
        "        if loss < best_train_loss_clr and val_loss < best_val_loss_clr:\n",
        "            best_both_loss_clr = (loss, val_loss)\n",
        "            best_both_epoch_clr = epoch\n",
        "            torch.save(model.state_dict(), os.path.join(model_path, \"best_both_loss_model_clr.model\"))\n",
        "\n",
        "        # save model\n",
        "        if epoch % save_each == 0 or epoch == max_epoch - 1:\n",
        "            torch.save(model.state_dict(), os.path.join(model_path, '{}_epoch_clr.model'.format(epoch)))\n",
        "    return train_losses,val_losses\n",
        "# Contoh penggunaan:\n",
        "train_loss_clr,val_loss_clr=train_with_clr(clr_model, train_loader, criterion, optimizer, num_epochs=100,base_lr=best_lr , max_lr_multiplier=8, cycle_size=25)"
      ]
    },
    {
      "cell_type": "code",
      "execution_count": null,
      "metadata": {
        "id": "o_sWKKSoffBK"
      },
      "outputs": [],
      "source": [
        "train_loss_np = np.array(train_loss_clr)\n",
        "val_loss_np = np.array(val_loss_clr)"
      ]
    },
    {
      "cell_type": "code",
      "execution_count": null,
      "metadata": {
        "id": "sQoWXx-EffBL",
        "outputId": "5683bc08-76f0-4743-826c-c3a8cafe06c0"
      },
      "outputs": [],
      "source": [
        "fig, ax = plt.subplots(figsize=(7,4))\n",
        "ax.plot(train_loss_np, label=\"train\")\n",
        "ax.plot(val_loss_np, label=\"validation\")\n",
        "plt.title(\"MSE Loss\")\n",
        "plt.legend()\n",
        "plt.xlabel('Epoch')\n",
        "plt.ylabel('Loss')\n",
        "plt.show()"
      ]
    },
    {
      "cell_type": "code",
      "execution_count": null,
      "metadata": {},
      "outputs": [
        {
          "name": "stdout",
          "output_type": "stream",
          "text": [
            "Loss terendah 0.00011116047244286165, pada epoch 75\n",
            "Validation Loss terendah 0.00029363683111464174, pada epoch 89\n"
          ]
        }
      ],
      "source": [
        "print(\"Loss terendah {}, pada epoch {}\".format(np.min(train_loss_clr),np.argmin(train_loss_clr)))\n",
        "print(\"Validation Loss terendah {}, pada epoch {}\".format(np.min(val_loss_clr),np.argmin(val_loss_clr)))"
      ]
    },
    {
      "cell_type": "code",
      "execution_count": null,
      "metadata": {
        "id": "uufHGVM6ffBL"
      },
      "outputs": [],
      "source": [
        "import torch.optim.lr_scheduler as lr_scheduler\n",
        "\n",
        "def print_clr_schedule(optimizer, base_lr, max_lr_multiplier, num_epochs, cycle_size):\n",
        "    scheduler = lr_scheduler.CyclicLR(optimizer, base_lr=base_lr, max_lr=base_lr*max_lr_multiplier, step_size_up=cycle_size, cycle_momentum=False, mode='triangular2')\n",
        "\n",
        "    learning_rates = []\n",
        "\n",
        "    for epoch in range(num_epochs):\n",
        "        current_lr = scheduler.get_lr()[0]\n",
        "        print(f'Epoch [{epoch+1}/{num_epochs}], Learning Rate: {current_lr:.6f}')\n",
        "        learning_rates.append(current_lr)\n",
        "        scheduler.step()\n",
        "\n",
        "    # Extend the learning_rates list to include the descending phase\n",
        "    learning_rates += learning_rates[-2:0:-1]\n",
        "\n",
        "    # Plot learning rate schedule\n",
        "    plt.plot(range(1, len(learning_rates)+1), learning_rates)\n",
        "    plt.xlabel('Step')\n",
        "    plt.ylabel('Learning Rate')\n",
        "    plt.title('Triangular Learning Rate Schedule')\n",
        "    plt.show()"
      ]
    },
    {
      "cell_type": "code",
      "execution_count": null,
      "metadata": {},
      "outputs": [
        {
          "data": {
            "image/png": "[encoded data removed]",
            "text/plain": [
              "<Figure size 640x480 with 1 Axes>"
            ]
          },
          "metadata": {},
          "output_type": "display_data"
        }
      ],
      "source": [
        "import torch\n",
        "import matplotlib.pyplot as plt\n",
        "import numpy as np\n",
        "\n",
        "def cyclic_lr_cosine(base_lr, max_lr, step_size, iteration):\n",
        "    cycle = np.floor(1 + iteration / (2 * step_size))\n",
        "    x = np.abs(iteration / step_size - 2 * cycle + 1)\n",
        "    lr = base_lr + (max_lr - base_lr) * (1 + np.cos(np.pi * x)) / 2\n",
        "    return lr\n",
        "\n",
        "# Tentukan parameter CLR\n",
        "base_lr = 0.001\n",
        "max_lr = 0.1\n",
        "step_size = 2000\n",
        "\n",
        "# Simulasikan iterasi\n",
        "num_iterations = 10000\n",
        "learning_rates = []\n",
        "\n",
        "for iteration in range(1, num_iterations + 1):\n",
        "    current_lr = cyclic_lr_cosine(base_lr, max_lr, step_size, iteration)\n",
        "    learning_rates.append(current_lr)\n",
        "\n",
        "# Plot learning rate schedule\n",
        "plt.plot(range(1, num_iterations + 1), learning_rates)\n",
        "plt.xlabel('Iteration')\n",
        "plt.ylabel('Learning Rate')\n",
        "plt.title('Cyclic Learning Rate Schedule')\n",
        "plt.show()"
      ]
    },
    {
      "cell_type": "code",
      "execution_count": null,
      "metadata": {
        "id": "VS9tf2i5ffBL",
        "outputId": "eb68ae61-aa60-42f5-8ac6-eb36ae298881"
      },
      "outputs": [],
      "source": [
        "# print_clr_schedule(optimizer, base_lr=1e-2, max_lr_multiplier=8, num_epochs=100, cycle_size=20)"
      ]
    },
    {
      "cell_type": "markdown",
      "metadata": {
        "id": "rOcXn7SBmieg"
      },
      "source": [
        "## Testing"
      ]
    },
    {
      "cell_type": "markdown",
      "metadata": {
        "id": "nh4kj5HYk-Mc"
      },
      "source": [
        "Load Data"
      ]
    },
    {
      "cell_type": "code",
      "execution_count": null,
      "metadata": {
        "id": "PH5Er3N_aXAx"
      },
      "outputs": [],
      "source": [
        "def make_dataloader(data, input_step, predict_step, batch_size=1):\n",
        "    dataset = Dataset(data, input_step, predict_step)\n",
        "    dataloader = torch.utils.data.DataLoader(dataset, batch_size=batch_size, shuffle=False)\n",
        "    return dataset, dataloader"
      ]
    },
    {
      "cell_type": "code",
      "execution_count": null,
      "metadata": {
        "id": "imZncLm6a2jL"
      },
      "outputs": [],
      "source": [
        "torch.set_printoptions(precision=5, sci_mode=False)\n",
        "np.set_printoptions(precision=5, suppress=True)\n",
        "\n",
        "device = torch.device(\"cuda\" if torch.cuda.is_available() else \"cpu\")"
      ]
    },
    {
      "cell_type": "code",
      "execution_count": null,
      "metadata": {
        "id": "BTo64-K7agvO"
      },
      "outputs": [],
      "source": [
        "test_set, test_loader = make_dataloader(test, input_step, predict_step, batch_size=600)\n",
        "all_data = test_set.data[:,0]"
      ]
    },
    {
      "cell_type": "code",
      "execution_count": null,
      "metadata": {},
      "outputs": [
        {
          "data": {
            "text/plain": [
              "tensor([-0.76429, -0.77144, -0.77144, -0.77857])"
            ]
          },
          "execution_count": 150,
          "metadata": {},
          "output_type": "execute_result"
        }
      ],
      "source": [
        "test_set.data"
      ]
    },
    {
      "cell_type": "code",
      "execution_count": null,
      "metadata": {
        "colab": {
          "base_uri": "https://localhost:8080/"
        },
        "id": "YTjLEsFeXQRS",
        "outputId": "458453d0-cad8-433e-d037-3a67736e75fd"
      },
      "outputs": [
        {
          "data": {
            "text/plain": [
              "120"
            ]
          },
          "execution_count": 818,
          "metadata": {},
          "output_type": "execute_result"
        }
      ],
      "source": [
        "test.size"
      ]
    },
    {
      "cell_type": "markdown",
      "metadata": {
        "id": "msL_XKH2lG5z"
      },
      "source": [
        "Load Model & State"
      ]
    },
    {
      "cell_type": "code",
      "execution_count": null,
      "metadata": {
        "colab": {
          "base_uri": "https://localhost:8080/"
        },
        "id": "90mbYcVYiGSX",
        "outputId": "59444416-ed86-4bbf-e182-adae012c6271"
      },
      "outputs": [
        {
          "name": "stdout",
          "output_type": "stream",
          "text": [
            "89\n"
          ]
        }
      ],
      "source": [
        "epoch_num = best_val_epoch_clr\n",
        "print(epoch_num)\n",
        "par_path = os.path.join(model_path, \"best_val_loss_model_clr.model\")"
      ]
    },
    {
      "cell_type": "code",
      "execution_count": null,
      "metadata": {
        "id": "u6RHvScCh4Xo"
      },
      "outputs": [],
      "source": [
        "net = Transformer(device, d_model, in_dim, N_enc, N_dec, h_enc, h_dec, ff_hidnum, hid_pre, hid_post, dropout_pre, dropout_post, dropout_model, norm_first)\n",
        "\n",
        "# load parameter\n",
        "if device == torch.device(\"cpu\"):\n",
        "  net.load_state_dict(torch.load(par_path, map_location=torch.device(\"cpu\")))\n",
        "else:\n",
        "  net.load_state_dict(torch.load(par_path,map_location=torch.device(device)))"
      ]
    },
    {
      "cell_type": "markdown",
      "metadata": {
        "id": "4Vz2Sud2lNW-"
      },
      "source": [
        "Testing"
      ]
    },
    {
      "cell_type": "code",
      "execution_count": null,
      "metadata": {
        "id": "iFZrocMbsUHP"
      },
      "outputs": [],
      "source": [
        "net.eval()\n",
        "\n",
        "pred_list = np.zeros((1, predict_step))\n",
        "for iter, (x, y, tgt) in enumerate(test_loader):\n",
        "    tgt = tgt[:,:,0]\n",
        "\n",
        "    out = net.generate(x, tgt.shape[1], y[:,[0],:])\n",
        "    out = out.to('cpu').detach().numpy().copy()\n",
        "\n",
        "    pred_list = np.concatenate([pred_list, out], axis=0)\n",
        "\n",
        "pred_list = pred_list[1:]\n",
        "D = []\n",
        "for i in range(predict_step):\n",
        "    tmp = np.concatenate([all_data[:(input_step+i)], pred_list[:,i], all_data[(all_data.shape[0]-(predict_step - (i + 1))):]])\n",
        "    D.append(tmp)\n",
        "\n",
        "for step_num, tmp_data in enumerate(D):\n",
        "    n = step_num + 1\n",
        "\n",
        "    np.save(os.path.join(test_result_path, \"pred{}_epoch{}\".format(n, epoch_num)), pred_list[:,[step_num]])\n",
        "    np.save(os.path.join(test_result_path, \"tgt{}_epoch{}\".format(n, epoch_num)), tgt[:,[step_num]])"
      ]
    },
    {
      "cell_type": "markdown",
      "metadata": {
        "id": "2Vze_7nVlRGN"
      },
      "source": [
        "Plot"
      ]
    },
    {
      "cell_type": "code",
      "execution_count": null,
      "metadata": {
        "colab": {
          "base_uri": "https://localhost:8080/"
        },
        "id": "e9DwqnP-uXVI",
        "outputId": "6c0e87a2-3f1c-4a3d-8219-38fb541d64c4"
      },
      "outputs": [
        {
          "data": {
            "image/png": "[encoded data removed]",
            "text/plain": [
              "<Figure size 700x300 with 1 Axes>"
            ]
          },
          "metadata": {},
          "output_type": "display_data"
        }
      ],
      "source": [
        "all_data_denorm = np.round(scaler.inverse_transform(all_data.reshape(all_data.size,1)))\n",
        "\n",
        "fig, (ax1) = plt.subplots(1, 1,figsize=(7,3), sharex=True, sharey=True)\n",
        "fig.suptitle(f'Prdiction plot epoch {epoch_num}')\n",
        "\n",
        "for ind, d in enumerate(D):\n",
        "  d_denorm = np.round(scaler.inverse_transform(d.reshape(d.size,1)))\n",
        "\n",
        "  exec(\"ax\"+str(ind+1)+\".plot(all_data_denorm, label='true')\")\n",
        "  exec(\"ax\"+str(ind+1)+\".plot(d_denorm, label=f'predict {ind+1}')\")\n",
        "  exec(\"ax\"+str(ind+1)+\".axvline(input_step+ind-1,ls='dashed',c='r')\")\n",
        "  # exec(\"ax\"+str(ind+1)+\".set_title(f'predict {ind+1}')\")\n",
        "  exec(\"ax\"+str(ind+1)+\".legend()\")"
      ]
    },
    {
      "cell_type": "markdown",
      "metadata": {
        "id": "FQhSG5jvTn9z"
      },
      "source": [
        "## Error"
      ]
    },
    {
      "cell_type": "code",
      "execution_count": null,
      "metadata": {
        "id": "zwQpUtwkPCbK"
      },
      "outputs": [],
      "source": [
        "from sklearn.metrics import mean_squared_error, mean_absolute_error, mean_absolute_percentage_error"
      ]
    },
    {
      "cell_type": "code",
      "execution_count": null,
      "metadata": {
        "colab": {
          "base_uri": "https://localhost:8080/"
        },
        "id": "woEOizZZ3Vrv",
        "outputId": "0a676690-bb18-40fe-d9b9-c19a6bf0ca48"
      },
      "outputs": [
        {
          "name": "stdout",
          "output_type": "stream",
          "text": [
            "Error Pred 1\n",
            "MAPE\t : 1.1017359510999696\n",
            "MAE\t : 0.49137931034482757\n",
            "MSE\t : 0.49137931034482757\n",
            "RMSE\t : 0.7009845293191767\n",
            "\n"
          ]
        }
      ],
      "source": [
        "for ind, d in enumerate(D):\n",
        "    d_denorm = np.round(scaler.inverse_transform(d.reshape(d.size,1)))\n",
        "    print(f\"Error Pred {ind+1}\")\n",
        "    print(f\"MAPE\\t : {mean_absolute_percentage_error(all_data_denorm[input_step+ind:], d_denorm[input_step+ind:])*100}\")\n",
        "    print(f\"MAE\\t : {mean_absolute_error(all_data_denorm[input_step+ind:], d_denorm[input_step+ind:])}\")\n",
        "    print(f\"MSE\\t : {mean_squared_error(all_data_denorm[input_step+ind:], d_denorm[input_step+ind:])}\")\n",
        "    print(f\"RMSE\\t : {np.sqrt(mean_squared_error(all_data_denorm[input_step+ind:], d_denorm[input_step+ind:]))}\\n\")"
      ]
    },
    {
      "cell_type": "code",
      "execution_count": null,
      "metadata": {},
      "outputs": [],
      "source": [
        "raise KeyError()"
      ]
    },
    {
      "cell_type": "markdown",
      "metadata": {
        "id": "HWqBXMUErwwK"
      },
      "source": [
        "# LSTM"
      ]
    },
    {
      "cell_type": "markdown",
      "metadata": {
        "id": "xSItPJipBaZ5"
      },
      "source": [
        "## Library"
      ]
    },
    {
      "cell_type": "code",
      "execution_count": 431,
      "metadata": {
        "id": "wb-Z7wNKUJko"
      },
      "outputs": [],
      "source": [
        "import numpy as np\n",
        "import matplotlib.pyplot as plt\n",
        "import pandas as pd\n",
        "import torch\n",
        "import torch.nn as nn\n",
        "from torch.autograd import Variable\n",
        "from sklearn.preprocessing import MinMaxScaler"
      ]
    },
    {
      "cell_type": "markdown",
      "metadata": {
        "id": "--1LVbHOBSIy"
      },
      "source": [
        "## Model"
      ]
    },
    {
      "cell_type": "code",
      "execution_count": 432,
      "metadata": {
        "id": "xfsVgtLGSXUv"
      },
      "outputs": [],
      "source": [
        "class LSTM(nn.Module):\n",
        "\n",
        "    def __init__(self, input_size, num_classes, hidden_size, num_layers):\n",
        "        super(LSTM, self).__init__()\n",
        "\n",
        "        self.num_classes = num_classes\n",
        "        self.num_layers = num_layers\n",
        "        self.input_size = input_size\n",
        "        self.hidden_size = hidden_size\n",
        "        self.seq_length = seq_length\n",
        "\n",
        "        self.lstm = nn.LSTM(input_size=input_size, hidden_size=hidden_size,\n",
        "                            num_layers=num_layers, batch_first=True)\n",
        "\n",
        "        self.fc = nn.Linear(hidden_size, num_classes)\n",
        "\n",
        "    def forward(self, x):\n",
        "        h_0 = Variable(torch.zeros(\n",
        "            self.num_layers, x.size(0), self.hidden_size))\n",
        "\n",
        "        c_0 = Variable(torch.zeros(\n",
        "            self.num_layers, x.size(0), self.hidden_size))\n",
        "\n",
        "        # Propagate input through LSTM\n",
        "        ula, (h_out, _) = self.lstm(x, (h_0, c_0))\n",
        "\n",
        "        h_out = h_out.view(-1, self.hidden_size)\n",
        "\n",
        "        out = self.fc(h_out)\n",
        "\n",
        "        return out"
      ]
    },
    {
      "cell_type": "markdown",
      "metadata": {
        "id": "NabsV8O5BBd5"
      },
      "source": [
        "## Dataset"
      ]
    },
    {
      "cell_type": "code",
      "execution_count": 433,
      "metadata": {
        "id": "sE7wChRlARDW"
      },
      "outputs": [],
      "source": [
        "# data_path = 'https://data.covid19.go.id/public/api/update.json'\n",
        "# data_path = 'update_22-3-2022.json'\n",
        "import requests\n",
        "import json\n",
        "import pandas as pd\n",
        "\n",
        "def load_data(data_path, from_api=True, dataset_len=None):\n",
        "    # data = requests.get(data_path).json() if from_api else pd.read_json(data_path)\n",
        "\n",
        "    # df = pd.DataFrame(data['update']['harian'])[['key','jumlah_positif']]\n",
        "    # df.key = pd.to_datetime(df.key, unit='ms')\n",
        "\n",
        "    # for i, row in enumerate(df.jumlah_positif):\n",
        "    #     df.loc[i,['jumlah_positif']] = row.get('value')\n",
        "\n",
        "    data=pd.read_csv(data_path)\n",
        "    df=data[[\"V1\",\"V2\"]]\n",
        "    df = df.set_index('V1')\n",
        "\n",
        "    # data=pd.read_csv(data_path)\n",
        "    # df=data[[\"date\",\"OT\"]]\n",
        "    # df = df.set_index('date')\n",
        "\n",
        "    # data=pd.read_csv(data_path)\n",
        "    # data = data.rename(columns={data.columns[0]: 'Date'}) \n",
        "    # data=data.dropna(subset=[\"ActivePower\"])\n",
        "    # # data=data[[\"Date\",\"ActivePower\",\"WindSpeed\"]]\n",
        "    # df=data[[\"Date\",\"ActivePower\"]]\n",
        "    # df = df.set_index('Date')\n",
        "\n",
        "    # df = df.set_index('key')\n",
        "    data_len = df.shape[0]\n",
        "    numpy_use = df.to_numpy() if dataset_len == None else df[:dataset_len].to_numpy()\n",
        "\n",
        "    return numpy_use"
      ]
    },
    {
      "cell_type": "code",
      "execution_count": 434,
      "metadata": {
        "id": "RwQF4Y85-Hpn",
        "outputId": "b6f0ced5-9878-496a-b0cc-6c33aa5d57dd"
      },
      "outputs": [],
      "source": [
        "# data = load_data('update 12-05-2022.json', from_api=False, dataset_len=750)\n",
        "data = load_data('Data/m4/Daily-train.csv')"
      ]
    },
    {
      "cell_type": "code",
      "execution_count": 435,
      "metadata": {
        "colab": {
          "base_uri": "https://localhost:8080/"
        },
        "id": "j6MEnfZ3-70K",
        "outputId": "30d509eb-9636-4497-affa-1c35bbd146a2"
      },
      "outputs": [
        {
          "data": {
            "text/plain": [
              "4227"
            ]
          },
          "execution_count": 435,
          "metadata": {},
          "output_type": "execute_result"
        }
      ],
      "source": [
        "data.size"
      ]
    },
    {
      "cell_type": "code",
      "execution_count": 436,
      "metadata": {
        "id": "vIWvJCpOVmwU"
      },
      "outputs": [],
      "source": [
        "def sliding_windows(data, seq_length):\n",
        "    x = []\n",
        "    y = []\n",
        "\n",
        "    for i in range(len(data)-seq_length-1):\n",
        "        _x = data[i:(i+seq_length)]\n",
        "        _y = data[i+seq_length]\n",
        "        x.append(_x)\n",
        "        y.append(_y)\n",
        "\n",
        "    return np.array(x),np.array(y)\n",
        "\n",
        "sc = MinMaxScaler(feature_range=(-1, 1))\n",
        "training_data = sc.fit_transform(data)\n",
        "\n",
        "seq_length = 7\n",
        "x, y = sliding_windows(training_data, seq_length)\n",
        "\n",
        "test_size = 120\n",
        "train_size = int(len(y) - test_size)\n",
        "\n",
        "dataX = Variable(torch.Tensor(np.array(x)))\n",
        "dataY = Variable(torch.Tensor(np.array(y)))\n",
        "\n",
        "trainX = Variable(torch.Tensor(np.array(x[0:train_size])))\n",
        "trainY = Variable(torch.Tensor(np.array(y[0:train_size])))\n",
        "\n",
        "\n",
        "\n",
        "testX = Variable(torch.Tensor(np.array(x[train_size:len(x)])))\n",
        "testY = Variable(torch.Tensor(np.array(y[train_size:len(y)])))\n"
      ]
    },
    {
      "cell_type": "code",
      "execution_count": 438,
      "metadata": {},
      "outputs": [
        {
          "name": "stdout",
          "output_type": "stream",
          "text": [
            "Input data is on device: cpu\n"
          ]
        }
      ],
      "source": [
        "# print(f\"Model is on device: {next(lstm.parameters()).device}\")\n",
        "print(f\"Input data is on device: {trainX.device}\")"
      ]
    },
    {
      "cell_type": "markdown",
      "metadata": {
        "id": "tdzFI5GJBUF5"
      },
      "source": [
        "## Training"
      ]
    },
    {
      "cell_type": "code",
      "execution_count": 441,
      "metadata": {
        "colab": {
          "base_uri": "https://localhost:8080/"
        },
        "id": "a2vvHeFgVtCp",
        "outputId": "61cbc6ca-f3c7-4b53-f3fa-7d2e8964b636"
      },
      "outputs": [
        {
          "name": "stdout",
          "output_type": "stream",
          "text": [
            "Epoch: 0, loss: 1.25142\n",
            "Epoch: 1, loss: 1.20088\n",
            "Epoch: 2, loss: 1.14834\n",
            "Epoch: 3, loss: 1.09720\n",
            "Epoch: 4, loss: 1.04659\n",
            "Epoch: 5, loss: 0.99829\n",
            "Epoch: 6, loss: 0.94618\n",
            "Epoch: 7, loss: 0.89592\n",
            "Epoch: 8, loss: 0.84496\n",
            "Epoch: 9, loss: 0.79436\n",
            "Epoch: 10, loss: 0.73944\n",
            "Epoch: 11, loss: 0.68780\n",
            "Epoch: 12, loss: 0.63080\n",
            "Epoch: 13, loss: 0.57347\n",
            "Epoch: 14, loss: 0.51498\n",
            "Epoch: 15, loss: 0.45536\n",
            "Epoch: 16, loss: 0.39432\n",
            "Epoch: 17, loss: 0.33341\n",
            "Epoch: 18, loss: 0.27326\n",
            "Epoch: 19, loss: 0.21475\n"
          ]
        }
      ],
      "source": [
        "import torch.utils.data as data\n",
        "device = torch.device(\"cuda\" if torch.cuda.is_available() else \"cpu\")\n",
        "num_epochs = 20\n",
        "learning_rate = 0.001\n",
        "\n",
        "input_size = 1\n",
        "hidden_size = 16\n",
        "num_layers = 1\n",
        "\n",
        "num_classes = 1\n",
        "loader = data.DataLoader(data.TensorDataset(trainX, trainY), shuffle=True, batch_size=1378)\n",
        "\n",
        "lstm = LSTM(input_size, num_classes, hidden_size, num_layers)\n",
        "# lstm = lstm.to(device)\n",
        "\n",
        "criterion = torch.nn.MSELoss()\n",
        "optimizer = torch.optim.Adam(lstm.parameters(), lr=learning_rate, betas=(0.9,0.98))\n",
        "\n",
        "\n",
        "base_lr=0.0002782559402207126\n",
        "max_lr_multiplier=7\n",
        "cycle_size=15\n",
        "\n",
        "# hidden = None\n",
        "# scheduler = CosineCyclicLR(optimizer, base_lr=base_lr,max_lr=(base_lr*max_lr_multiplier), step_size=cycle_size)\n",
        "# scheduler = BatchVarCosineCyclicLR(optimizer, base_lr=base_lr, max_lr=(base_lr*max_lr_multiplier), step_size=cycle_size)\n",
        "# Train the model\n",
        "for epoch in range(num_epochs):\n",
        "    # print(trainX.shape)\n",
        "    # outputs, hidden = rnn(trainX, hidden)\n",
        "    for X_batch, y_batch in loader:\n",
        "        # X_batch,y_batch=X_batch.to(device),y_batch.to(device)\n",
        "        y_pred = lstm(X_batch)\n",
        "        loss = criterion(y_pred, y_batch)\n",
        "        optimizer.zero_grad()\n",
        "        # scheduler.set_batch_data(X_batch) \n",
        "        loss.backward()\n",
        "        optimizer.step()\n",
        "        # scheduler.step()\n",
        "\n",
        "    print(\"Epoch: %d, loss: %1.5f\" % (epoch, loss.item()))"
      ]
    },
    {
      "cell_type": "markdown",
      "metadata": {
        "id": "35ndYIwIKteS"
      },
      "source": [
        "## Testing\n",
        "\n"
      ]
    },
    {
      "cell_type": "code",
      "execution_count": 442,
      "metadata": {
        "colab": {
          "base_uri": "https://localhost:8080/"
        },
        "id": "GAnb88JaKeWr",
        "outputId": "562e0bb3-1f33-428d-9854-3f855761d95d"
      },
      "outputs": [
        {
          "data": {
            "text/plain": [
              "torch.Size([120, 7, 1])"
            ]
          },
          "execution_count": 442,
          "metadata": {},
          "output_type": "execute_result"
        }
      ],
      "source": [
        "testX.shape"
      ]
    },
    {
      "cell_type": "code",
      "execution_count": 443,
      "metadata": {
        "id": "CKEzO1jzKydL"
      },
      "outputs": [],
      "source": [
        "lstm.eval()\n",
        "train_predict = lstm(testX)\n",
        "\n",
        "data_predict = train_predict.data.numpy()\n",
        "dataY_plot = testY.data.numpy()\n",
        "\n",
        "data_predict = np.round(sc.inverse_transform(data_predict))\n",
        "np.savetxt('data_predict.csv', data_predict, delimiter=',')\n",
        "\n",
        "dataY_plot = np.round(sc.inverse_transform(dataY_plot))\n",
        "np.savetxt('dataY_plot.csv', dataY_plot, delimiter=',')"
      ]
    },
    {
      "cell_type": "code",
      "execution_count": null,
      "metadata": {
        "colab": {
          "base_uri": "https://localhost:8080/",
          "height": 265
        },
        "id": "19_mmG2FXYPJ",
        "outputId": "dd787174-19bc-4bfb-b163-e8b3ab52c31d"
      },
      "outputs": [
        {
          "data": {
            "image/png": "[encoded data removed]",
            "text/plain": [
              "<Figure size 700x300 with 1 Axes>"
            ]
          },
          "metadata": {},
          "output_type": "display_data"
        }
      ],
      "source": [
        "import matplotlib.pyplot as plt\n",
        "import matplotlib as mpl\n",
        "import matplotlib.dates as mdates\n",
        "\n",
        "fig, ax = plt.subplots(figsize=(7,3))\n",
        "ax.plot(dataY_plot, label=\"true\", linewidth=1.25)\n",
        "ax.plot(data_predict, label=\"LSTM\", linewidth=0.9)\n",
        "# df_label=pd.read_csv(\"data/m4/Daily-train.csv\")\n",
        "# interval=500\n",
        "\n",
        "# df=data[[\"V1\"]]\n",
        "# df = df.set_index('V1')\n",
        "# plt.xticks([x for items in df])\n",
        "# plt.xticks(df_label['V1'][::interval])\n",
        "plt.title(\"LSTM predict vs true\")\n",
        "plt.legend()\n",
        "plt.show()"
      ]
    },
    {
      "cell_type": "code",
      "execution_count": null,
      "metadata": {},
      "outputs": [],
      "source": [
        "from numpy import savetxt\n",
        "savetxt('content/BAB 6/modelLain/WIND_Lstm_BatchVar.csv', data_predict, delimiter=',')"
      ]
    },
    {
      "cell_type": "markdown",
      "metadata": {
        "id": "-XcfqKK4FN9h"
      },
      "source": [
        "## Error"
      ]
    },
    {
      "cell_type": "code",
      "execution_count": null,
      "metadata": {
        "id": "F22fB6krDmWy"
      },
      "outputs": [],
      "source": [
        "from sklearn.metrics import mean_squared_error, mean_absolute_error, mean_absolute_percentage_error"
      ]
    },
    {
      "cell_type": "code",
      "execution_count": null,
      "metadata": {
        "colab": {
          "base_uri": "https://localhost:8080/"
        },
        "id": "5iCKnznRFPSO",
        "outputId": "0987e114-80c8-4a58-cf3a-8ceb01da73b9"
      },
      "outputs": [
        {
          "name": "stdout",
          "output_type": "stream",
          "text": [
            "Error Pred\n",
            "MAPE\t : 41.233596205711365\n",
            "MAE\t : 131.14166259765625\n",
            "MSE\t : 35302.2734375\n",
            "RMSE\t : 187.8889923095703\n",
            "\n"
          ]
        }
      ],
      "source": [
        "print(f\"Error Pred\")\n",
        "print(f\"MAPE\\t : {mean_absolute_percentage_error(data_predict, dataY_plot)*100}\")\n",
        "print(f\"MAE\\t : {mean_absolute_error(data_predict, dataY_plot)}\")\n",
        "print(f\"MSE\\t : {mean_squared_error(data_predict, dataY_plot)}\")\n",
        "print(f\"RMSE\\t : {np.sqrt(mean_squared_error(data_predict, dataY_plot))}\\n\")"
      ]
    },
    {
      "cell_type": "code",
      "execution_count": null,
      "metadata": {},
      "outputs": [],
      "source": [
        "raise TimeoutError(\"Test\")"
      ]
    },
    {
      "cell_type": "markdown",
      "metadata": {
        "id": "LZKmgYgBoEt2"
      },
      "source": [
        "# RNN"
      ]
    },
    {
      "cell_type": "markdown",
      "metadata": {
        "id": "olQP4qKEoEt2"
      },
      "source": [
        "## Library"
      ]
    },
    {
      "cell_type": "code",
      "execution_count": 444,
      "metadata": {
        "id": "BKsBUWM1oEt2"
      },
      "outputs": [],
      "source": [
        "import numpy as np\n",
        "import matplotlib.pyplot as plt\n",
        "import pandas as pd\n",
        "import torch\n",
        "import torch.nn as nn\n",
        "from torch.autograd import Variable\n",
        "from sklearn.preprocessing import MinMaxScaler"
      ]
    },
    {
      "cell_type": "markdown",
      "metadata": {
        "id": "zKX7w5NRoEt3"
      },
      "source": [
        "## Model"
      ]
    },
    {
      "cell_type": "code",
      "execution_count": 445,
      "metadata": {
        "id": "ZqM67N9lt1Hm"
      },
      "outputs": [],
      "source": [
        "class RNN(nn.Module):\n",
        "    def __init__(self, input_dim, output_dim,  hidden_dim, layer_dim):\n",
        "        super(RNN, self).__init__()\n",
        "        # Hidden dimensions\n",
        "        self.hidden_dim = hidden_dim\n",
        "\n",
        "        # Number of hidden layers\n",
        "        self.layer_dim = layer_dim\n",
        "\n",
        "        # Building your RNN\n",
        "        # batch_first=True causes input/output tensors to be of shape\n",
        "        # (batch_dim, seq_dim, input_dim)\n",
        "        # batch_dim = number of samples per batch\n",
        "        self.rnn = nn.RNN(input_dim, hidden_dim, layer_dim, batch_first=True, nonlinearity='relu')\n",
        "\n",
        "        # Readout layer\n",
        "        self.fc = nn.Linear(hidden_dim, output_dim)\n",
        "\n",
        "    def forward(self, x):\n",
        "        # Initialize hidden state with zeros\n",
        "        # (layer_dim, batch_size, hidden_dim)\n",
        "        h0 = torch.zeros(self.layer_dim, x.size(0), self.hidden_dim).requires_grad_()\n",
        "\n",
        "        # We need to detach the hidden state to prevent exploding/vanishing gradients\n",
        "        # This is part of truncated backpropagation through time (BPTT)\n",
        "        out, hn = self.rnn(x, h0.detach())\n",
        "\n",
        "        # Index hidden state of last time step\n",
        "        # out.size() --> 100, 28, 10\n",
        "        # out[:, -1, :] --> 100, 10 --> just want last time step hidden states!\n",
        "        out = self.fc(out[:, -1, :])\n",
        "        # out.size() --> 100, 10\n",
        "        return out"
      ]
    },
    {
      "cell_type": "markdown",
      "metadata": {
        "id": "v4IbeWUNoEt3"
      },
      "source": [
        "## Dataset"
      ]
    },
    {
      "cell_type": "code",
      "execution_count": 522,
      "metadata": {
        "id": "rkeq88F0oEt3"
      },
      "outputs": [],
      "source": [
        "# data_path = 'https://data.covid19.go.id/public/api/update.json'\n",
        "# data_path = 'update_22-3-2022.json'\n",
        "import requests\n",
        "import json\n",
        "import pandas as pd\n",
        "\n",
        "def load_data(data_path, from_api=True, dataset_len=None):\n",
        "    # data = requests.get(data_path).json() if from_api else pd.read_json(data_path)\n",
        "\n",
        "    # df = pd.DataFrame(data['update']['harian'])[['key','jumlah_positif']]\n",
        "    # df.key = pd.to_datetime(df.key, unit='ms')\n",
        "\n",
        "    # for i, row in enumerate(df.jumlah_positif):\n",
        "    #     df.loc[i,['jumlah_positif']] = row.get('value')\n",
        "    # data=pd.read_csv(data_path)\n",
        "    # df=data[[\"V1\",\"V2\"]]\n",
        "    # df = df.set_index('V1')\n",
        "\n",
        "    data=pd.read_csv(data_path)\n",
        "    df=data[[\"date\",\"OT\"]]\n",
        "    df = df.set_index('date')\n",
        "\n",
        "    # data=pd.read_csv(data_path)\n",
        "    # data = data.rename(columns={data.columns[0]: 'Date'}) \n",
        "    # data=data.dropna(subset=[\"ActivePower\"])\n",
        "    # # data=data[[\"Date\",\"ActivePower\",\"WindSpeed\"]]\n",
        "    # df=data[[\"Date\",\"ActivePower\"]]\n",
        "    # df = df.set_index('Date')\n",
        "    \n",
        "    # df = df.set_index('key')\n",
        "    data_len = df.shape[0]\n",
        "    numpy_use = df.to_numpy() if dataset_len == None else df[:dataset_len].to_numpy()\n",
        "\n",
        "    return numpy_use"
      ]
    },
    {
      "cell_type": "code",
      "execution_count": 523,
      "metadata": {
        "id": "jWZaMmr6oEt3"
      },
      "outputs": [],
      "source": [
        "# data = load_data('update 12-05-2022.json', from_api=False, dataset_len=750)\n",
        "data = load_data('data/ETTm2.csv')"
      ]
    },
    {
      "cell_type": "code",
      "execution_count": 524,
      "metadata": {
        "colab": {
          "base_uri": "https://localhost:8080/"
        },
        "id": "XtzYhNjuoEt3",
        "outputId": "355d3f14-cdc3-4688-93de-c432c55204e0"
      },
      "outputs": [
        {
          "data": {
            "text/plain": [
              "69680"
            ]
          },
          "execution_count": 524,
          "metadata": {},
          "output_type": "execute_result"
        }
      ],
      "source": [
        "data.size"
      ]
    },
    {
      "cell_type": "code",
      "execution_count": 525,
      "metadata": {
        "id": "H_wgexu1oEt4"
      },
      "outputs": [],
      "source": [
        "def sliding_windows(data, seq_length):\n",
        "    x = []\n",
        "    y = []\n",
        "\n",
        "    for i in range(len(data)-seq_length-1):\n",
        "        _x = data[i:(i+seq_length)]\n",
        "        _y = data[i+seq_length]\n",
        "        x.append(_x)\n",
        "        y.append(_y)\n",
        "\n",
        "    return np.array(x),np.array(y)\n",
        "\n",
        "sc = MinMaxScaler(feature_range=(-1, 1))\n",
        "training_data = sc.fit_transform(data)\n",
        "\n",
        "seq_length = 7\n",
        "x, y = sliding_windows(training_data, seq_length)\n",
        "\n",
        "test_size = 120\n",
        "train_size = int(len(y) - test_size)\n",
        "\n",
        "dataX = Variable(torch.Tensor(np.array(x)))\n",
        "dataY = Variable(torch.Tensor(np.array(y)))\n",
        "\n",
        "trainX = Variable(torch.Tensor(np.array(x[0:train_size])))\n",
        "trainY = Variable(torch.Tensor(np.array(y[0:train_size])))\n",
        "\n",
        "testX = Variable(torch.Tensor(np.array(x[train_size:len(x)])))\n",
        "testY = Variable(torch.Tensor(np.array(y[train_size:len(y)])))"
      ]
    },
    {
      "cell_type": "markdown",
      "metadata": {
        "id": "uGebfEF6oEt4"
      },
      "source": [
        "## Training"
      ]
    },
    {
      "cell_type": "code",
      "execution_count": 526,
      "metadata": {
        "colab": {
          "base_uri": "https://localhost:8080/"
        },
        "id": "wDYxjbSSoEt4",
        "outputId": "a06706c6-2b13-4eb6-deaa-f4825ac191f8"
      },
      "outputs": [
        {
          "name": "stdout",
          "output_type": "stream",
          "text": [
            "Epoch: 0, loss: 0.00009\n"
          ]
        }
      ],
      "source": [
        "import torch.utils.data as data\n",
        "num_epochs = 1\n",
        "learning_rate = 0.0002782559402207126\n",
        "\n",
        "input_size = 1\n",
        "hidden_size = 16\n",
        "num_layers = 1\n",
        "\n",
        "num_classes = 1\n",
        "\n",
        "rnn = RNN(input_size, num_classes, hidden_size, num_layers)\n",
        "\n",
        "loader = data.DataLoader(data.TensorDataset(trainX, trainY), shuffle=True, batch_size=67)\n",
        "criterion = torch.nn.MSELoss()\n",
        "optimizer = torch.optim.Adam(rnn.parameters(), lr=learning_rate, betas=(0.9,0.98))\n",
        "\n",
        "# hidden = None\n",
        "\n",
        "base_lr=0.0002782559402207126\n",
        "max_lr_multiplier=8\n",
        "cycle_size=15\n",
        "\n",
        "scheduler = CosineCyclicLR(optimizer, base_lr=base_lr,max_lr=(base_lr*max_lr_multiplier), step_size=cycle_size)\n",
        "# scheduler = BatchVarCosineCyclicLR(optimizer, base_lr=base_lr, max_lr=(base_lr*max_lr_multiplier), step_size=cycle_size)\n",
        "# Train the model\n",
        "for epoch in range(num_epochs):\n",
        "    # print(trainX.shape)\n",
        "    # outputs, hidden = rnn(trainX, hidden)\n",
        "    for X_batch, y_batch in loader:\n",
        "        y_pred = rnn(X_batch)\n",
        "        loss = criterion(y_pred, y_batch)\n",
        "        optimizer.zero_grad()\n",
        "        # scheduler.set_batch_data(X_batch) \n",
        "        loss.backward()\n",
        "        optimizer.step()\n",
        "        scheduler.step()\n",
        "\n",
        "    \n",
        "    print(\"Epoch: %d, loss: %1.5f\" % (epoch, loss.item()))"
      ]
    },
    {
      "cell_type": "markdown",
      "metadata": {
        "id": "SzBLK0lHoEt4"
      },
      "source": [
        "## Testing\n",
        "\n"
      ]
    },
    {
      "cell_type": "code",
      "execution_count": 527,
      "metadata": {
        "colab": {
          "base_uri": "https://localhost:8080/"
        },
        "id": "XzEWR1DuoEt4",
        "outputId": "369b5a42-9216-4e18-e158-176913e84c13"
      },
      "outputs": [
        {
          "data": {
            "text/plain": [
              "torch.Size([120, 7, 1])"
            ]
          },
          "execution_count": 527,
          "metadata": {},
          "output_type": "execute_result"
        }
      ],
      "source": [
        "testX.shape"
      ]
    },
    {
      "cell_type": "code",
      "execution_count": 528,
      "metadata": {
        "id": "jsq0gJxUoEt4"
      },
      "outputs": [],
      "source": [
        "rnn.eval()\n",
        "train_predict = rnn(testX)\n",
        "\n",
        "data_predict = train_predict.data.numpy()\n",
        "dataY_plot = testY.data.numpy()\n",
        "\n",
        "data_predict = np.round(sc.inverse_transform(data_predict))\n",
        "np.savetxt('data_predict.csv', data_predict, delimiter=',')\n",
        "\n",
        "dataY_plot = np.round(sc.inverse_transform(dataY_plot))\n",
        "np.savetxt('dataY_plot.csv', dataY_plot, delimiter=',')"
      ]
    },
    {
      "cell_type": "code",
      "execution_count": 529,
      "metadata": {},
      "outputs": [],
      "source": [
        "dataY_plot = testY.data.numpy()\n",
        "dataY_plot = np.round(sc.inverse_transform(dataY_plot))\n",
        "np.savetxt('dataY_plot.csv', dataY_plot, delimiter=',')"
      ]
    },
    {
      "cell_type": "code",
      "execution_count": 530,
      "metadata": {},
      "outputs": [],
      "source": [
        "from numpy import loadtxt\n",
        "# m4_uni=loadtxt(\"content/BAB 6/multi/M4_1.csv\")\n",
        "m4_uni=loadtxt(\"content/BAB 6/modelLain/ETT_trans_cyclic.csv\")\n",
        "m4_LSTM=loadtxt(\"content/BAB 6/modelLain/ETT_lstm_batchVar.csv\")\n",
        "m4_RNN=loadtxt(\"content/BAB 6/modelLain/ETT_rnn_Adam.csv\")"
      ]
    },
    {
      "cell_type": "code",
      "execution_count": 536,
      "metadata": {
        "colab": {
          "base_uri": "https://localhost:8080/"
        },
        "id": "_f8mCiTzoEt5",
        "outputId": "9290ca0d-2a70-47ba-aea9-38c80fc32137"
      },
      "outputs": [
        {
          "data": {
            "image/png": "[encoded data removed]",
            "text/plain": [
              "<Figure size 700x500 with 1 Axes>"
            ]
          },
          "metadata": {},
          "output_type": "display_data"
        }
      ],
      "source": [
        "import matplotlib.pyplot as plt\n",
        "import matplotlib as mpl\n",
        "import matplotlib.dates as mdates\n",
        "\n",
        "fig, ax = plt.subplots(figsize=(7,5))\n",
        "ax.plot(dataY_plot, label=\"True\", linewidth=1)\n",
        "# ax.plot(data_predict, \"r\",label=\"RNN\", linewidth=0.9)\n",
        "# plt.xticks(np.arange(0,61,4),[d.strftime('%Y-%m-%d') for d in pd.date_range('2022-01-21', periods=16, freq='4D')], rotation=45)\n",
        "# plt.title(\"RNN predict vs true\")\n",
        "plt.ylabel(\"Oil Temperature\")\n",
        "\n",
        "plt.xlabel(\"Timestamp\")\n",
        "plt.legend()\n",
        "plt.legend(loc='upper center', bbox_to_anchor=(0.5, 1.07),\n",
        "          ncol=1, fancybox=True, shadow=True)\n",
        "plt.show()"
      ]
    },
    {
      "cell_type": "code",
      "execution_count": null,
      "metadata": {},
      "outputs": [],
      "source": [
        "from numpy import savetxt\n",
        "savetxt('content/BAB 6/modelLain/WIND_rnn_BatchVar.csv', data_predict, delimiter=',')"
      ]
    },
    {
      "cell_type": "markdown",
      "metadata": {
        "id": "1mIk-3DqoEt5"
      },
      "source": [
        "## Error"
      ]
    },
    {
      "cell_type": "code",
      "execution_count": null,
      "metadata": {
        "id": "K-US7z6GoEt5"
      },
      "outputs": [],
      "source": [
        "from sklearn.metrics import mean_squared_error, mean_absolute_error, mean_absolute_percentage_error"
      ]
    },
    {
      "cell_type": "code",
      "execution_count": null,
      "metadata": {
        "colab": {
          "base_uri": "https://localhost:8080/"
        },
        "id": "Qcf4PDSsoEt5",
        "outputId": "29ab1342-4fe2-48b2-a882-8de7fae4bc92"
      },
      "outputs": [
        {
          "name": "stdout",
          "output_type": "stream",
          "text": [
            "Error Pred\n",
            "MAPE\t : 39.181122183799744\n",
            "MAE\t : 130.2083282470703\n",
            "MSE\t : 35110.66015625\n",
            "RMSE\t : 187.37838745117188\n",
            "\n"
          ]
        }
      ],
      "source": [
        "print(f\"Error Pred\")\n",
        "print(f\"MAPE\\t : {mean_absolute_percentage_error(data_predict, dataY_plot)*100}\")\n",
        "print(f\"MAE\\t : {mean_absolute_error(data_predict, dataY_plot)}\")\n",
        "print(f\"MSE\\t : {mean_squared_error(data_predict, dataY_plot)}\")\n",
        "print(f\"RMSE\\t : {np.sqrt(mean_squared_error(data_predict, dataY_plot))}\\n\")"
      ]
    }
  ],
  "metadata": {
    "colab": {
      "provenance": [],
      "toc_visible": true
    },
    "gpuClass": "standard",
    "kernelspec": {
      "display_name": "Python 3",
      "name": "python3"
    },
    "language_info": {
      "codemirror_mode": {
        "name": "ipython",
        "version": 3
      },
      "file_extension": ".py",
      "mimetype": "text/x-python",
      "name": "python",
      "nbconvert_exporter": "python",
      "pygments_lexer": "ipython3",
      "version": "3.10.9"
    }
  },
  "nbformat": 4,
  "nbformat_minor": 0
}
